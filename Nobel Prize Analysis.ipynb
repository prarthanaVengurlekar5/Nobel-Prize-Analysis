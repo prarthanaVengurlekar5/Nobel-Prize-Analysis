{
 "cells": [
  {
   "cell_type": "markdown",
   "id": "b1432a69",
   "metadata": {},
   "source": [
    "##                     @@@-----------Nobel Prize Dataset Analysis----------@@@\n",
    "\n",
    "                  Nobel Prize Dataset Analysis since 1901-2019\n",
    "\n",
    "  "
   ]
  },
  {
   "cell_type": "markdown",
   "id": "f46d56c4",
   "metadata": {},
   "source": [
    "### About Dataset\n",
    "\n",
    "The Nobel Prize is one of the most prestigious international honors awarded annually in recognition of outstanding achievements in various fields.The will of the Swedish chemist, engineer and industrialist Alfred Nobel established the five Nobel prizes in 1895.\n",
    "\n",
    "The prizes in Chemistry, Literature, Peace, Physics, and Physiology or Medicine were first awarded in 1901 and they have been awarded annually since then.There have been years in that time when the Nobel Prizes have not been awarded - mostly during World War I (1914-1918) and II (1939-1945)."
   ]
  },
  {
   "cell_type": "markdown",
   "id": "02a48bb3",
   "metadata": {},
   "source": [
    "## 1) Importing Important Python Libraries."
   ]
  },
  {
   "cell_type": "code",
   "execution_count": 1,
   "id": "deaf47f0",
   "metadata": {},
   "outputs": [],
   "source": [
    "import numpy as np #linear algebra,to perform a wide variety of mathematical operations on arrays.\n",
    "import pandas as pd # data processing,csv file by converting it into the DataFrame\n",
    "\n",
    "import matplotlib.pyplot as plt # for visualization.\n",
    "import seaborn as sns # for visualization.\n",
    "from sklearn.preprocessing import StandardScaler # Scikit-Learn Library used for statistical modeling.\n",
    "                                                  # StandardScaler:bringing all the values under 1 unit.\n",
    "import plotly.express as px  #for visualization.\n",
    "\n",
    "import warnings\n",
    "warnings.filterwarnings('ignore')"
   ]
  },
  {
   "cell_type": "markdown",
   "id": "6fea698e",
   "metadata": {},
   "source": [
    "## 2) Reading the Dataset"
   ]
  },
  {
   "cell_type": "code",
   "execution_count": 2,
   "id": "4795be8a",
   "metadata": {},
   "outputs": [],
   "source": [
    "df=pd.read_csv(\"Nobel_Price_Data.csv\")"
   ]
  },
  {
   "cell_type": "code",
   "execution_count": 3,
   "id": "5efdcdcd",
   "metadata": {
    "scrolled": false
   },
   "outputs": [
    {
     "data": {
      "text/html": [
       "<div>\n",
       "<style scoped>\n",
       "    .dataframe tbody tr th:only-of-type {\n",
       "        vertical-align: middle;\n",
       "    }\n",
       "\n",
       "    .dataframe tbody tr th {\n",
       "        vertical-align: top;\n",
       "    }\n",
       "\n",
       "    .dataframe thead th {\n",
       "        text-align: right;\n",
       "    }\n",
       "</style>\n",
       "<table border=\"1\" class=\"dataframe\">\n",
       "  <thead>\n",
       "    <tr style=\"text-align: right;\">\n",
       "      <th></th>\n",
       "      <th>AwardYear</th>\n",
       "      <th>category</th>\n",
       "      <th>categoryFullName</th>\n",
       "      <th>sortOrder</th>\n",
       "      <th>portion</th>\n",
       "      <th>prizeAmount</th>\n",
       "      <th>prizeAmountAdjusted</th>\n",
       "      <th>dateAwarded</th>\n",
       "      <th>prizeStatus</th>\n",
       "      <th>motivation</th>\n",
       "      <th>...</th>\n",
       "      <th>org_founded_country</th>\n",
       "      <th>org_founded_countryNow</th>\n",
       "      <th>org_founded_locationString</th>\n",
       "      <th>ind_or_org</th>\n",
       "      <th>residence_1</th>\n",
       "      <th>residence_2</th>\n",
       "      <th>affiliation_1</th>\n",
       "      <th>affiliation_2</th>\n",
       "      <th>affiliation_3</th>\n",
       "      <th>affiliation_4</th>\n",
       "    </tr>\n",
       "  </thead>\n",
       "  <tbody>\n",
       "    <tr>\n",
       "      <th>0</th>\n",
       "      <td>1901</td>\n",
       "      <td>Medicine</td>\n",
       "      <td>The Nobel Prize in Physiology or Medicine</td>\n",
       "      <td>1</td>\n",
       "      <td>1</td>\n",
       "      <td>150782</td>\n",
       "      <td>8567159</td>\n",
       "      <td>NaN</td>\n",
       "      <td>received</td>\n",
       "      <td>for his work on serum therapy, especially its ...</td>\n",
       "      <td>...</td>\n",
       "      <td>NaN</td>\n",
       "      <td>NaN</td>\n",
       "      <td>NaN</td>\n",
       "      <td>Individual</td>\n",
       "      <td>NaN</td>\n",
       "      <td>NaN</td>\n",
       "      <td>Marburg University, Marburg, Germany</td>\n",
       "      <td>NaN</td>\n",
       "      <td>NaN</td>\n",
       "      <td>NaN</td>\n",
       "    </tr>\n",
       "    <tr>\n",
       "      <th>1</th>\n",
       "      <td>1901</td>\n",
       "      <td>Peace</td>\n",
       "      <td>The Nobel Peace Prize</td>\n",
       "      <td>2</td>\n",
       "      <td>01-Feb</td>\n",
       "      <td>150782</td>\n",
       "      <td>8567159</td>\n",
       "      <td>10-12-1901</td>\n",
       "      <td>received</td>\n",
       "      <td>for his lifelong work for international peace ...</td>\n",
       "      <td>...</td>\n",
       "      <td>NaN</td>\n",
       "      <td>NaN</td>\n",
       "      <td>NaN</td>\n",
       "      <td>Individual</td>\n",
       "      <td>France</td>\n",
       "      <td>NaN</td>\n",
       "      <td>NaN</td>\n",
       "      <td>NaN</td>\n",
       "      <td>NaN</td>\n",
       "      <td>NaN</td>\n",
       "    </tr>\n",
       "    <tr>\n",
       "      <th>2</th>\n",
       "      <td>1901</td>\n",
       "      <td>Peace</td>\n",
       "      <td>The Nobel Peace Prize</td>\n",
       "      <td>1</td>\n",
       "      <td>01-Feb</td>\n",
       "      <td>150782</td>\n",
       "      <td>8567159</td>\n",
       "      <td>10-12-1901</td>\n",
       "      <td>received</td>\n",
       "      <td>for his humanitarian efforts to help wounded s...</td>\n",
       "      <td>...</td>\n",
       "      <td>NaN</td>\n",
       "      <td>NaN</td>\n",
       "      <td>NaN</td>\n",
       "      <td>Individual</td>\n",
       "      <td>Switzerland</td>\n",
       "      <td>NaN</td>\n",
       "      <td>NaN</td>\n",
       "      <td>NaN</td>\n",
       "      <td>NaN</td>\n",
       "      <td>NaN</td>\n",
       "    </tr>\n",
       "    <tr>\n",
       "      <th>3</th>\n",
       "      <td>1901</td>\n",
       "      <td>Chemistry</td>\n",
       "      <td>The Nobel Prize in Chemistry</td>\n",
       "      <td>1</td>\n",
       "      <td>1</td>\n",
       "      <td>150782</td>\n",
       "      <td>8567159</td>\n",
       "      <td>NaN</td>\n",
       "      <td>received</td>\n",
       "      <td>in recognition of the extraordinary services h...</td>\n",
       "      <td>...</td>\n",
       "      <td>NaN</td>\n",
       "      <td>NaN</td>\n",
       "      <td>NaN</td>\n",
       "      <td>Individual</td>\n",
       "      <td>NaN</td>\n",
       "      <td>NaN</td>\n",
       "      <td>Berlin University, Berlin, Germany</td>\n",
       "      <td>NaN</td>\n",
       "      <td>NaN</td>\n",
       "      <td>NaN</td>\n",
       "    </tr>\n",
       "    <tr>\n",
       "      <th>4</th>\n",
       "      <td>1901</td>\n",
       "      <td>Literature</td>\n",
       "      <td>The Nobel Prize in  Literature</td>\n",
       "      <td>1</td>\n",
       "      <td>1</td>\n",
       "      <td>150782</td>\n",
       "      <td>8567159</td>\n",
       "      <td>NaN</td>\n",
       "      <td>received</td>\n",
       "      <td>in special recognition of his poetic compositi...</td>\n",
       "      <td>...</td>\n",
       "      <td>NaN</td>\n",
       "      <td>NaN</td>\n",
       "      <td>NaN</td>\n",
       "      <td>Individual</td>\n",
       "      <td>France</td>\n",
       "      <td>NaN</td>\n",
       "      <td>NaN</td>\n",
       "      <td>NaN</td>\n",
       "      <td>NaN</td>\n",
       "      <td>NaN</td>\n",
       "    </tr>\n",
       "    <tr>\n",
       "      <th>...</th>\n",
       "      <td>...</td>\n",
       "      <td>...</td>\n",
       "      <td>...</td>\n",
       "      <td>...</td>\n",
       "      <td>...</td>\n",
       "      <td>...</td>\n",
       "      <td>...</td>\n",
       "      <td>...</td>\n",
       "      <td>...</td>\n",
       "      <td>...</td>\n",
       "      <td>...</td>\n",
       "      <td>...</td>\n",
       "      <td>...</td>\n",
       "      <td>...</td>\n",
       "      <td>...</td>\n",
       "      <td>...</td>\n",
       "      <td>...</td>\n",
       "      <td>...</td>\n",
       "      <td>...</td>\n",
       "      <td>...</td>\n",
       "      <td>...</td>\n",
       "    </tr>\n",
       "    <tr>\n",
       "      <th>918</th>\n",
       "      <td>2019</td>\n",
       "      <td>Economic Sciences</td>\n",
       "      <td>The Sveriges Riksbank Prize in Economic Scienc...</td>\n",
       "      <td>3</td>\n",
       "      <td>01-Mar</td>\n",
       "      <td>9000000</td>\n",
       "      <td>9000000</td>\n",
       "      <td>14-10-2019</td>\n",
       "      <td>received</td>\n",
       "      <td>for their experimental approach to alleviating...</td>\n",
       "      <td>...</td>\n",
       "      <td>NaN</td>\n",
       "      <td>NaN</td>\n",
       "      <td>NaN</td>\n",
       "      <td>Individual</td>\n",
       "      <td>NaN</td>\n",
       "      <td>NaN</td>\n",
       "      <td>Harvard University, Cambridge, MA, USA</td>\n",
       "      <td>NaN</td>\n",
       "      <td>NaN</td>\n",
       "      <td>NaN</td>\n",
       "    </tr>\n",
       "    <tr>\n",
       "      <th>919</th>\n",
       "      <td>2019</td>\n",
       "      <td>Physics</td>\n",
       "      <td>The Nobel Prize in Physics</td>\n",
       "      <td>2</td>\n",
       "      <td>01-Apr</td>\n",
       "      <td>9000000</td>\n",
       "      <td>9000000</td>\n",
       "      <td>08-10-2019</td>\n",
       "      <td>received</td>\n",
       "      <td>for the discovery of an exoplanet orbiting a s...</td>\n",
       "      <td>...</td>\n",
       "      <td>NaN</td>\n",
       "      <td>NaN</td>\n",
       "      <td>NaN</td>\n",
       "      <td>Individual</td>\n",
       "      <td>NaN</td>\n",
       "      <td>NaN</td>\n",
       "      <td>University of Geneva, Geneva, Switzerland</td>\n",
       "      <td>NaN</td>\n",
       "      <td>NaN</td>\n",
       "      <td>NaN</td>\n",
       "    </tr>\n",
       "    <tr>\n",
       "      <th>920</th>\n",
       "      <td>2019</td>\n",
       "      <td>Literature</td>\n",
       "      <td>The Nobel Prize in  Literature</td>\n",
       "      <td>1</td>\n",
       "      <td>1</td>\n",
       "      <td>9000000</td>\n",
       "      <td>9000000</td>\n",
       "      <td>10-10-2019</td>\n",
       "      <td>received</td>\n",
       "      <td>for an influential work that with linguistic i...</td>\n",
       "      <td>...</td>\n",
       "      <td>NaN</td>\n",
       "      <td>NaN</td>\n",
       "      <td>NaN</td>\n",
       "      <td>Individual</td>\n",
       "      <td>Chaville, France</td>\n",
       "      <td>NaN</td>\n",
       "      <td>NaN</td>\n",
       "      <td>NaN</td>\n",
       "      <td>NaN</td>\n",
       "      <td>NaN</td>\n",
       "    </tr>\n",
       "    <tr>\n",
       "      <th>921</th>\n",
       "      <td>2019</td>\n",
       "      <td>Medicine</td>\n",
       "      <td>The Nobel Prize in Physiology or Medicine</td>\n",
       "      <td>2</td>\n",
       "      <td>01-Mar</td>\n",
       "      <td>9000000</td>\n",
       "      <td>9000000</td>\n",
       "      <td>07-10-2019</td>\n",
       "      <td>received</td>\n",
       "      <td>for their discoveries of how cells sense and a...</td>\n",
       "      <td>...</td>\n",
       "      <td>NaN</td>\n",
       "      <td>NaN</td>\n",
       "      <td>NaN</td>\n",
       "      <td>Individual</td>\n",
       "      <td>NaN</td>\n",
       "      <td>NaN</td>\n",
       "      <td>University of Oxford, Oxford, United Kingdom</td>\n",
       "      <td>Francis Crick Institute, London, United Kingdom</td>\n",
       "      <td>NaN</td>\n",
       "      <td>NaN</td>\n",
       "    </tr>\n",
       "    <tr>\n",
       "      <th>922</th>\n",
       "      <td>2019</td>\n",
       "      <td>Medicine</td>\n",
       "      <td>The Nobel Prize in Physiology or Medicine</td>\n",
       "      <td>1</td>\n",
       "      <td>01-Mar</td>\n",
       "      <td>9000000</td>\n",
       "      <td>9000000</td>\n",
       "      <td>07-10-2019</td>\n",
       "      <td>received</td>\n",
       "      <td>for their discoveries of how cells sense and a...</td>\n",
       "      <td>...</td>\n",
       "      <td>NaN</td>\n",
       "      <td>NaN</td>\n",
       "      <td>NaN</td>\n",
       "      <td>Individual</td>\n",
       "      <td>NaN</td>\n",
       "      <td>NaN</td>\n",
       "      <td>Harvard Medical School, Boston, MA, USA</td>\n",
       "      <td>Howard Hughes Medical Institute, Chevy Chase, ...</td>\n",
       "      <td>Dana-Farber Cancer Institute, Boston, MA, USA</td>\n",
       "      <td>Brigham and Women's Hospital, Boston, MA, USA</td>\n",
       "    </tr>\n",
       "  </tbody>\n",
       "</table>\n",
       "<p>923 rows × 52 columns</p>\n",
       "</div>"
      ],
      "text/plain": [
       "     AwardYear           category  \\\n",
       "0         1901           Medicine   \n",
       "1         1901              Peace   \n",
       "2         1901              Peace   \n",
       "3         1901          Chemistry   \n",
       "4         1901         Literature   \n",
       "..         ...                ...   \n",
       "918       2019  Economic Sciences   \n",
       "919       2019            Physics   \n",
       "920       2019         Literature   \n",
       "921       2019           Medicine   \n",
       "922       2019           Medicine   \n",
       "\n",
       "                                      categoryFullName  sortOrder portion  \\\n",
       "0            The Nobel Prize in Physiology or Medicine          1       1   \n",
       "1                                The Nobel Peace Prize          2  01-Feb   \n",
       "2                                The Nobel Peace Prize          1  01-Feb   \n",
       "3                         The Nobel Prize in Chemistry          1       1   \n",
       "4                       The Nobel Prize in  Literature          1       1   \n",
       "..                                                 ...        ...     ...   \n",
       "918  The Sveriges Riksbank Prize in Economic Scienc...          3  01-Mar   \n",
       "919                         The Nobel Prize in Physics          2  01-Apr   \n",
       "920                     The Nobel Prize in  Literature          1       1   \n",
       "921          The Nobel Prize in Physiology or Medicine          2  01-Mar   \n",
       "922          The Nobel Prize in Physiology or Medicine          1  01-Mar   \n",
       "\n",
       "     prizeAmount  prizeAmountAdjusted dateAwarded prizeStatus  \\\n",
       "0         150782              8567159         NaN    received   \n",
       "1         150782              8567159  10-12-1901    received   \n",
       "2         150782              8567159  10-12-1901    received   \n",
       "3         150782              8567159         NaN    received   \n",
       "4         150782              8567159         NaN    received   \n",
       "..           ...                  ...         ...         ...   \n",
       "918      9000000              9000000  14-10-2019    received   \n",
       "919      9000000              9000000  08-10-2019    received   \n",
       "920      9000000              9000000  10-10-2019    received   \n",
       "921      9000000              9000000  07-10-2019    received   \n",
       "922      9000000              9000000  07-10-2019    received   \n",
       "\n",
       "                                            motivation  ...  \\\n",
       "0    for his work on serum therapy, especially its ...  ...   \n",
       "1    for his lifelong work for international peace ...  ...   \n",
       "2    for his humanitarian efforts to help wounded s...  ...   \n",
       "3    in recognition of the extraordinary services h...  ...   \n",
       "4    in special recognition of his poetic compositi...  ...   \n",
       "..                                                 ...  ...   \n",
       "918  for their experimental approach to alleviating...  ...   \n",
       "919  for the discovery of an exoplanet orbiting a s...  ...   \n",
       "920  for an influential work that with linguistic i...  ...   \n",
       "921  for their discoveries of how cells sense and a...  ...   \n",
       "922  for their discoveries of how cells sense and a...  ...   \n",
       "\n",
       "    org_founded_country org_founded_countryNow  org_founded_locationString  \\\n",
       "0                   NaN                    NaN                         NaN   \n",
       "1                   NaN                    NaN                         NaN   \n",
       "2                   NaN                    NaN                         NaN   \n",
       "3                   NaN                    NaN                         NaN   \n",
       "4                   NaN                    NaN                         NaN   \n",
       "..                  ...                    ...                         ...   \n",
       "918                 NaN                    NaN                         NaN   \n",
       "919                 NaN                    NaN                         NaN   \n",
       "920                 NaN                    NaN                         NaN   \n",
       "921                 NaN                    NaN                         NaN   \n",
       "922                 NaN                    NaN                         NaN   \n",
       "\n",
       "     ind_or_org       residence_1 residence_2  \\\n",
       "0    Individual               NaN         NaN   \n",
       "1    Individual            France         NaN   \n",
       "2    Individual       Switzerland         NaN   \n",
       "3    Individual               NaN         NaN   \n",
       "4    Individual            France         NaN   \n",
       "..          ...               ...         ...   \n",
       "918  Individual               NaN         NaN   \n",
       "919  Individual               NaN         NaN   \n",
       "920  Individual  Chaville, France         NaN   \n",
       "921  Individual               NaN         NaN   \n",
       "922  Individual               NaN         NaN   \n",
       "\n",
       "                                    affiliation_1  \\\n",
       "0            Marburg University, Marburg, Germany   \n",
       "1                                             NaN   \n",
       "2                                             NaN   \n",
       "3              Berlin University, Berlin, Germany   \n",
       "4                                             NaN   \n",
       "..                                            ...   \n",
       "918        Harvard University, Cambridge, MA, USA   \n",
       "919     University of Geneva, Geneva, Switzerland   \n",
       "920                                           NaN   \n",
       "921  University of Oxford, Oxford, United Kingdom   \n",
       "922       Harvard Medical School, Boston, MA, USA   \n",
       "\n",
       "                                         affiliation_2  \\\n",
       "0                                                  NaN   \n",
       "1                                                  NaN   \n",
       "2                                                  NaN   \n",
       "3                                                  NaN   \n",
       "4                                                  NaN   \n",
       "..                                                 ...   \n",
       "918                                                NaN   \n",
       "919                                                NaN   \n",
       "920                                                NaN   \n",
       "921    Francis Crick Institute, London, United Kingdom   \n",
       "922  Howard Hughes Medical Institute, Chevy Chase, ...   \n",
       "\n",
       "                                     affiliation_3  \\\n",
       "0                                              NaN   \n",
       "1                                              NaN   \n",
       "2                                              NaN   \n",
       "3                                              NaN   \n",
       "4                                              NaN   \n",
       "..                                             ...   \n",
       "918                                            NaN   \n",
       "919                                            NaN   \n",
       "920                                            NaN   \n",
       "921                                            NaN   \n",
       "922  Dana-Farber Cancer Institute, Boston, MA, USA   \n",
       "\n",
       "                                     affiliation_4  \n",
       "0                                              NaN  \n",
       "1                                              NaN  \n",
       "2                                              NaN  \n",
       "3                                              NaN  \n",
       "4                                              NaN  \n",
       "..                                             ...  \n",
       "918                                            NaN  \n",
       "919                                            NaN  \n",
       "920                                            NaN  \n",
       "921                                            NaN  \n",
       "922  Brigham and Women's Hospital, Boston, MA, USA  \n",
       "\n",
       "[923 rows x 52 columns]"
      ]
     },
     "execution_count": 3,
     "metadata": {},
     "output_type": "execute_result"
    }
   ],
   "source": [
    "df"
   ]
  },
  {
   "cell_type": "markdown",
   "id": "3be36493",
   "metadata": {},
   "source": [
    "## 3) Exploratory Data Analysis Begins:\n",
    "\n",
    "- Analysis of a data is defined as a process of inspecting, cleaning, transforming and modeling data with the goal of discovering useful information, informing, conclusions and supporting decision-making."
   ]
  },
  {
   "cell_type": "code",
   "execution_count": 4,
   "id": "a550e4aa",
   "metadata": {
    "scrolled": false
   },
   "outputs": [
    {
     "name": "stdout",
     "output_type": "stream",
     "text": [
      "<class 'pandas.core.frame.DataFrame'>\n",
      "RangeIndex: 923 entries, 0 to 922\n",
      "Data columns (total 52 columns):\n",
      " #   Column                      Non-Null Count  Dtype  \n",
      "---  ------                      --------------  -----  \n",
      " 0   AwardYear                   923 non-null    int64  \n",
      " 1   category                    923 non-null    object \n",
      " 2   categoryFullName            923 non-null    object \n",
      " 3   sortOrder                   923 non-null    int64  \n",
      " 4   portion                     923 non-null    object \n",
      " 5   prizeAmount                 923 non-null    int64  \n",
      " 6   prizeAmountAdjusted         923 non-null    int64  \n",
      " 7   dateAwarded                 506 non-null    object \n",
      " 8   prizeStatus                 923 non-null    object \n",
      " 9   motivation                  923 non-null    object \n",
      " 10  categoryTopMotivation       20 non-null     object \n",
      " 11  award_link                  923 non-null    object \n",
      " 12  id                          923 non-null    int64  \n",
      " 13  name                        923 non-null    object \n",
      " 14  knownName                   923 non-null    object \n",
      " 15  givenName                   923 non-null    object \n",
      " 16  familyName                  921 non-null    object \n",
      " 17  fullName                    923 non-null    object \n",
      " 18  penName                     11 non-null     object \n",
      " 19  gender                      923 non-null    object \n",
      " 20  laureate_link               923 non-null    object \n",
      " 21  birth_date                  923 non-null    object \n",
      " 22  birth_city                  922 non-null    object \n",
      " 23  birth_cityNow               922 non-null    object \n",
      " 24  birth_continent             923 non-null    object \n",
      " 25  birth_country               923 non-null    object \n",
      " 26  birth_countryNow            923 non-null    object \n",
      " 27  birth_locationString        923 non-null    object \n",
      " 28  death_date                  630 non-null    object \n",
      " 29  death_city                  611 non-null    object \n",
      " 30  death_cityNow               611 non-null    object \n",
      " 31  death_continent             617 non-null    object \n",
      " 32  death_country               617 non-null    object \n",
      " 33  death_countryNow            617 non-null    object \n",
      " 34  death_locationString        618 non-null    object \n",
      " 35  orgName                     0 non-null      float64\n",
      " 36  nativeName                  0 non-null      float64\n",
      " 37  acronym                     0 non-null      float64\n",
      " 38  org_founded_date            0 non-null      float64\n",
      " 39  org_founded_city            0 non-null      float64\n",
      " 40  org_founded_cityNow         0 non-null      float64\n",
      " 41  org_founded_continent       0 non-null      float64\n",
      " 42  org_founded_country         0 non-null      float64\n",
      " 43  org_founded_countryNow      0 non-null      float64\n",
      " 44  org_founded_locationString  0 non-null      float64\n",
      " 45  ind_or_org                  923 non-null    object \n",
      " 46  residence_1                 219 non-null    object \n",
      " 47  residence_2                 2 non-null      object \n",
      " 48  affiliation_1               697 non-null    object \n",
      " 49  affiliation_2               67 non-null     object \n",
      " 50  affiliation_3               2 non-null      object \n",
      " 51  affiliation_4               1 non-null      object \n",
      "dtypes: float64(10), int64(5), object(37)\n",
      "memory usage: 375.1+ KB\n"
     ]
    }
   ],
   "source": [
    "#info () method shows some of the characteristics of the data such as Column Name,No. of non-null values of our columns, Dtype of the data, and Memory Usage.\n",
    "df.info()"
   ]
  },
  {
   "cell_type": "markdown",
   "id": "b2e0e83d",
   "metadata": {},
   "source": [
    "##### In this dataset including total 52 columns & 923 entries."
   ]
  },
  {
   "cell_type": "code",
   "execution_count": 5,
   "id": "09ea29f4",
   "metadata": {},
   "outputs": [
    {
     "data": {
      "text/plain": [
       "(923, 52)"
      ]
     },
     "execution_count": 5,
     "metadata": {},
     "output_type": "execute_result"
    }
   ],
   "source": [
    "df.shape"
   ]
  },
  {
   "cell_type": "markdown",
   "id": "b8da9c60",
   "metadata": {},
   "source": [
    "###### Finding Shape of the dataset"
   ]
  },
  {
   "cell_type": "code",
   "execution_count": 6,
   "id": "acf11ec5",
   "metadata": {
    "scrolled": true
   },
   "outputs": [
    {
     "data": {
      "text/plain": [
       "Index(['AwardYear', 'category', 'categoryFullName', 'sortOrder', 'portion',\n",
       "       'prizeAmount', 'prizeAmountAdjusted', 'dateAwarded', 'prizeStatus',\n",
       "       'motivation', 'categoryTopMotivation', 'award_link', 'id', 'name',\n",
       "       'knownName', 'givenName', 'familyName', 'fullName', 'penName', 'gender',\n",
       "       'laureate_link', 'birth_date', 'birth_city', 'birth_cityNow',\n",
       "       'birth_continent', 'birth_country', 'birth_countryNow',\n",
       "       'birth_locationString', 'death_date', 'death_city', 'death_cityNow',\n",
       "       'death_continent', 'death_country', 'death_countryNow',\n",
       "       'death_locationString', 'orgName', 'nativeName', 'acronym',\n",
       "       'org_founded_date', 'org_founded_city', 'org_founded_cityNow',\n",
       "       'org_founded_continent', 'org_founded_country',\n",
       "       'org_founded_countryNow', 'org_founded_locationString', 'ind_or_org',\n",
       "       'residence_1', 'residence_2', 'affiliation_1', 'affiliation_2',\n",
       "       'affiliation_3', 'affiliation_4'],\n",
       "      dtype='object')"
      ]
     },
     "execution_count": 6,
     "metadata": {},
     "output_type": "execute_result"
    }
   ],
   "source": [
    "df.columns"
   ]
  },
  {
   "cell_type": "markdown",
   "id": "0090b446",
   "metadata": {},
   "source": [
    "###### Getting a List of all the columns and their datatypes in the dataset\n"
   ]
  },
  {
   "cell_type": "markdown",
   "id": "f261c940",
   "metadata": {},
   "source": [
    "### 3.1) Dropping unwanted columns:\n",
    "Drop is a method in pandas library of Python that is used to remove specified rows or columns from a dataframe."
   ]
  },
  {
   "cell_type": "code",
   "execution_count": 7,
   "id": "a6799624",
   "metadata": {},
   "outputs": [],
   "source": [
    "df.drop(columns=['categoryFullName', 'portion', 'prizeAmountAdjusted', 'prizeStatus', 'categoryTopMotivation', 'award_link', 'name', 'knownName', 'givenName', 'familyName', 'penName', 'laureate_link', 'birth_cityNow', 'birth_continent', 'birth_countryNow', 'birth_locationString', 'death_cityNow', 'death_continent', 'death_countryNow', 'death_locationString', 'orgName', 'nativeName', 'acronym', 'org_founded_date', 'org_founded_city', 'org_founded_cityNow','org_founded_continent', 'org_founded_country', 'org_founded_countryNow', 'org_founded_locationString', 'residence_1', 'residence_2','affiliation_2', 'affiliation_3', 'affiliation_4'], inplace=True)"
   ]
  },
  {
   "cell_type": "code",
   "execution_count": 8,
   "id": "3f5ecf7b",
   "metadata": {},
   "outputs": [
    {
     "data": {
      "text/plain": [
       "Index(['AwardYear', 'category', 'sortOrder', 'prizeAmount', 'dateAwarded',\n",
       "       'motivation', 'id', 'fullName', 'gender', 'birth_date', 'birth_city',\n",
       "       'birth_country', 'death_date', 'death_city', 'death_country',\n",
       "       'ind_or_org', 'affiliation_1'],\n",
       "      dtype='object')"
      ]
     },
     "execution_count": 8,
     "metadata": {},
     "output_type": "execute_result"
    }
   ],
   "source": [
    "df.columns"
   ]
  },
  {
   "cell_type": "markdown",
   "id": "4d89f975",
   "metadata": {},
   "source": [
    "###### W can see here,dropping unwanted column for easy to better analysis."
   ]
  },
  {
   "cell_type": "markdown",
   "id": "527f1a02",
   "metadata": {},
   "source": [
    "### 3.2) Data Cleaning and Handling null/missing values."
   ]
  },
  {
   "cell_type": "markdown",
   "id": "bcf4853e",
   "metadata": {},
   "source": [
    "##### Are there any missing values?"
   ]
  },
  {
   "cell_type": "code",
   "execution_count": 9,
   "id": "cac266f8",
   "metadata": {
    "scrolled": true
   },
   "outputs": [
    {
     "name": "stdout",
     "output_type": "stream",
     "text": [
      "True\n"
     ]
    }
   ],
   "source": [
    "#Pandas isnull () and notnull () methods are used to check and manage NULL values in a data frame.\n",
    "print(df.isnull().values.any())"
   ]
  },
  {
   "cell_type": "markdown",
   "id": "f330dfdf",
   "metadata": {},
   "source": [
    "##### YES, there are missing values in the dataset.¶"
   ]
  },
  {
   "cell_type": "code",
   "execution_count": 10,
   "id": "1961b5dd",
   "metadata": {},
   "outputs": [
    {
     "data": {
      "text/plain": [
       "AwardYear          0\n",
       "category           0\n",
       "sortOrder          0\n",
       "prizeAmount        0\n",
       "dateAwarded      417\n",
       "motivation         0\n",
       "id                 0\n",
       "fullName           0\n",
       "gender             0\n",
       "birth_date         0\n",
       "birth_city         1\n",
       "birth_country      0\n",
       "death_date       293\n",
       "death_city       312\n",
       "death_country    306\n",
       "ind_or_org         0\n",
       "affiliation_1    226\n",
       "dtype: int64"
      ]
     },
     "execution_count": 10,
     "metadata": {},
     "output_type": "execute_result"
    }
   ],
   "source": [
    "df.isnull().sum()"
   ]
  },
  {
   "cell_type": "markdown",
   "id": "d8284cfd",
   "metadata": {},
   "source": [
    "- Empty cells are the most common and anticipated data cleaning problem.\n",
    "- checking for any missing data points is the most important step.\n",
    "- In python dataframe, check for empty cells can be performed using isnull() , further using the sum() function to get an overall sum of the empty values."
   ]
  },
  {
   "cell_type": "code",
   "execution_count": 11,
   "id": "5110ab41",
   "metadata": {
    "scrolled": false
   },
   "outputs": [
    {
     "data": {
      "text/plain": [
       "AwardYear         0.000000\n",
       "category          0.000000\n",
       "sortOrder         0.000000\n",
       "prizeAmount       0.000000\n",
       "dateAwarded      45.178765\n",
       "motivation        0.000000\n",
       "id                0.000000\n",
       "fullName          0.000000\n",
       "gender            0.000000\n",
       "birth_date        0.000000\n",
       "birth_city        0.108342\n",
       "birth_country     0.000000\n",
       "death_date       31.744312\n",
       "death_city       33.802817\n",
       "death_country    33.152763\n",
       "ind_or_org        0.000000\n",
       "affiliation_1    24.485374\n",
       "dtype: float64"
      ]
     },
     "execution_count": 11,
     "metadata": {},
     "output_type": "execute_result"
    }
   ],
   "source": [
    "df.isnull().sum()/len(df)*100"
   ]
  },
  {
   "cell_type": "markdown",
   "id": "96546792",
   "metadata": {},
   "source": [
    "###### 3.1.a) Handling null values in Awrd info Columns.\n",
    "Award_info = [AwardYear, category, prizeAmount, dateAwarded, motivation, id]\n",
    "\n",
    "Filling the null values in Award Columns with \"None\". "
   ]
  },
  {
   "cell_type": "markdown",
   "id": "f6b8717c",
   "metadata": {},
   "source": [
    "##### Pandas Series.fillna() function is used to fill Pandas NA/NaN values using the specified method."
   ]
  },
  {
   "cell_type": "code",
   "execution_count": 12,
   "id": "7d6fd404",
   "metadata": {},
   "outputs": [],
   "source": [
    "Award_info = [\"AwardYear\", \"fullName\", \"category\", \"prizeAmount\", \"motivation\", \"id\" ,\"sortOrder\"]"
   ]
  },
  {
   "cell_type": "code",
   "execution_count": 13,
   "id": "dfcd3514",
   "metadata": {},
   "outputs": [],
   "source": [
    "for col in Award_info:\n",
    "    df[col].fillna(\"Unknown\", inplace=True)"
   ]
  },
  {
   "cell_type": "markdown",
   "id": "8e34c672",
   "metadata": {},
   "source": [
    "###### 3.1.b) Handling null values in date Columns.\n",
    "Birth Columns = [\"birth_date\",\"death_date\",\"dateAwarded\"]\n",
    "\n",
    "Filling the null values in Birth Columns with \"None\"."
   ]
  },
  {
   "cell_type": "code",
   "execution_count": 14,
   "id": "dc83197f",
   "metadata": {},
   "outputs": [],
   "source": [
    "Date_cols = [\"birth_date\",\"death_date\",\"dateAwarded\"]"
   ]
  },
  {
   "cell_type": "code",
   "execution_count": 15,
   "id": "b83345cd",
   "metadata": {
    "scrolled": true
   },
   "outputs": [],
   "source": [
    "for col in Date_cols:\n",
    "    df[col].fillna(\"Unknown\", inplace=True)"
   ]
  },
  {
   "cell_type": "markdown",
   "id": "afbe8c58",
   "metadata": {},
   "source": [
    "###### 3.1.c) Handling Null Values in city/country Columns.\n",
    "city Columns = [\"death_city\",\"death_country\",\"birth_city\", \"birth_country\"]\n",
    "\n",
    "Filling the null values in Death Columns with \"None\""
   ]
  },
  {
   "cell_type": "code",
   "execution_count": 16,
   "id": "83e1463f",
   "metadata": {},
   "outputs": [],
   "source": [
    "city_cols = [\"death_city\",\"death_country\",\"birth_city\", \"birth_country\"]"
   ]
  },
  {
   "cell_type": "code",
   "execution_count": 17,
   "id": "911ca13f",
   "metadata": {},
   "outputs": [],
   "source": [
    "for col in city_cols:\n",
    "    df[col].fillna(\"Unknown\", inplace=True)"
   ]
  },
  {
   "cell_type": "markdown",
   "id": "62c36f8e",
   "metadata": {},
   "source": [
    "###### 3.1.d) Handling Null values in \"affiliation info\" columns.\n",
    "Organization Columns = [ind_or_org,affiliation_1, affiliation_2, affiliation_3]\n",
    "\n",
    "Filling null values in organization columns with \"None\".\n",
    "\n"
   ]
  },
  {
   "cell_type": "code",
   "execution_count": 18,
   "id": "952b046b",
   "metadata": {},
   "outputs": [],
   "source": [
    "Affln_cols = [\"ind_or_org\", \"affiliation_1\"]"
   ]
  },
  {
   "cell_type": "code",
   "execution_count": 19,
   "id": "725fdea9",
   "metadata": {},
   "outputs": [],
   "source": [
    "for col in Affln_cols:\n",
    "    df[col].fillna(\"Unknown\", inplace=True)"
   ]
  },
  {
   "cell_type": "code",
   "execution_count": 20,
   "id": "13a22a12",
   "metadata": {},
   "outputs": [
    {
     "data": {
      "text/plain": [
       "AwardYear        0\n",
       "category         0\n",
       "sortOrder        0\n",
       "prizeAmount      0\n",
       "dateAwarded      0\n",
       "motivation       0\n",
       "id               0\n",
       "fullName         0\n",
       "gender           0\n",
       "birth_date       0\n",
       "birth_city       0\n",
       "birth_country    0\n",
       "death_date       0\n",
       "death_city       0\n",
       "death_country    0\n",
       "ind_or_org       0\n",
       "affiliation_1    0\n",
       "dtype: int64"
      ]
     },
     "execution_count": 20,
     "metadata": {},
     "output_type": "execute_result"
    }
   ],
   "source": [
    "df.isnull().sum()"
   ]
  },
  {
   "cell_type": "code",
   "execution_count": 21,
   "id": "34fd3691",
   "metadata": {
    "scrolled": false
   },
   "outputs": [
    {
     "name": "stdout",
     "output_type": "stream",
     "text": [
      "False\n"
     ]
    }
   ],
   "source": [
    "print(df.isnull().values.any())"
   ]
  },
  {
   "cell_type": "code",
   "execution_count": 22,
   "id": "8d602259",
   "metadata": {},
   "outputs": [
    {
     "data": {
      "text/html": [
       "<div>\n",
       "<style scoped>\n",
       "    .dataframe tbody tr th:only-of-type {\n",
       "        vertical-align: middle;\n",
       "    }\n",
       "\n",
       "    .dataframe tbody tr th {\n",
       "        vertical-align: top;\n",
       "    }\n",
       "\n",
       "    .dataframe thead th {\n",
       "        text-align: right;\n",
       "    }\n",
       "</style>\n",
       "<table border=\"1\" class=\"dataframe\">\n",
       "  <thead>\n",
       "    <tr style=\"text-align: right;\">\n",
       "      <th></th>\n",
       "      <th>AwardYear</th>\n",
       "      <th>category</th>\n",
       "      <th>sortOrder</th>\n",
       "      <th>prizeAmount</th>\n",
       "      <th>dateAwarded</th>\n",
       "      <th>motivation</th>\n",
       "      <th>id</th>\n",
       "      <th>fullName</th>\n",
       "      <th>gender</th>\n",
       "      <th>birth_date</th>\n",
       "      <th>birth_city</th>\n",
       "      <th>birth_country</th>\n",
       "      <th>death_date</th>\n",
       "      <th>death_city</th>\n",
       "      <th>death_country</th>\n",
       "      <th>ind_or_org</th>\n",
       "      <th>affiliation_1</th>\n",
       "    </tr>\n",
       "  </thead>\n",
       "  <tbody>\n",
       "    <tr>\n",
       "      <th>0</th>\n",
       "      <td>1901</td>\n",
       "      <td>Medicine</td>\n",
       "      <td>1</td>\n",
       "      <td>150782</td>\n",
       "      <td>Unknown</td>\n",
       "      <td>for his work on serum therapy, especially its ...</td>\n",
       "      <td>293</td>\n",
       "      <td>Emil Adolf von Behring</td>\n",
       "      <td>male</td>\n",
       "      <td>1854-03-15</td>\n",
       "      <td>Hansdorf</td>\n",
       "      <td>Prussia</td>\n",
       "      <td>31-03-1917</td>\n",
       "      <td>Marburg</td>\n",
       "      <td>Germany</td>\n",
       "      <td>Individual</td>\n",
       "      <td>Marburg University, Marburg, Germany</td>\n",
       "    </tr>\n",
       "    <tr>\n",
       "      <th>1</th>\n",
       "      <td>1901</td>\n",
       "      <td>Peace</td>\n",
       "      <td>2</td>\n",
       "      <td>150782</td>\n",
       "      <td>10-12-1901</td>\n",
       "      <td>for his lifelong work for international peace ...</td>\n",
       "      <td>463</td>\n",
       "      <td>Frédéric Passy</td>\n",
       "      <td>male</td>\n",
       "      <td>1822-05-20</td>\n",
       "      <td>Paris</td>\n",
       "      <td>France</td>\n",
       "      <td>12-06-1912</td>\n",
       "      <td>Paris</td>\n",
       "      <td>France</td>\n",
       "      <td>Individual</td>\n",
       "      <td>Unknown</td>\n",
       "    </tr>\n",
       "    <tr>\n",
       "      <th>2</th>\n",
       "      <td>1901</td>\n",
       "      <td>Peace</td>\n",
       "      <td>1</td>\n",
       "      <td>150782</td>\n",
       "      <td>10-12-1901</td>\n",
       "      <td>for his humanitarian efforts to help wounded s...</td>\n",
       "      <td>462</td>\n",
       "      <td>Jean Henry Dunant</td>\n",
       "      <td>male</td>\n",
       "      <td>1828-05-08</td>\n",
       "      <td>Geneva</td>\n",
       "      <td>Switzerland</td>\n",
       "      <td>30-10-1910</td>\n",
       "      <td>Heiden</td>\n",
       "      <td>Switzerland</td>\n",
       "      <td>Individual</td>\n",
       "      <td>Unknown</td>\n",
       "    </tr>\n",
       "    <tr>\n",
       "      <th>3</th>\n",
       "      <td>1901</td>\n",
       "      <td>Chemistry</td>\n",
       "      <td>1</td>\n",
       "      <td>150782</td>\n",
       "      <td>Unknown</td>\n",
       "      <td>in recognition of the extraordinary services h...</td>\n",
       "      <td>160</td>\n",
       "      <td>Jacobus Henricus van 't Hoff</td>\n",
       "      <td>male</td>\n",
       "      <td>1852-08-30</td>\n",
       "      <td>Rotterdam</td>\n",
       "      <td>the Netherlands</td>\n",
       "      <td>01-03-1911</td>\n",
       "      <td>Berlin</td>\n",
       "      <td>Germany</td>\n",
       "      <td>Individual</td>\n",
       "      <td>Berlin University, Berlin, Germany</td>\n",
       "    </tr>\n",
       "    <tr>\n",
       "      <th>4</th>\n",
       "      <td>1901</td>\n",
       "      <td>Literature</td>\n",
       "      <td>1</td>\n",
       "      <td>150782</td>\n",
       "      <td>Unknown</td>\n",
       "      <td>in special recognition of his poetic compositi...</td>\n",
       "      <td>569</td>\n",
       "      <td>Sully Prudhomme</td>\n",
       "      <td>male</td>\n",
       "      <td>1839-03-16</td>\n",
       "      <td>Paris</td>\n",
       "      <td>France</td>\n",
       "      <td>07-09-1907</td>\n",
       "      <td>Châtenay</td>\n",
       "      <td>France</td>\n",
       "      <td>Individual</td>\n",
       "      <td>Unknown</td>\n",
       "    </tr>\n",
       "    <tr>\n",
       "      <th>...</th>\n",
       "      <td>...</td>\n",
       "      <td>...</td>\n",
       "      <td>...</td>\n",
       "      <td>...</td>\n",
       "      <td>...</td>\n",
       "      <td>...</td>\n",
       "      <td>...</td>\n",
       "      <td>...</td>\n",
       "      <td>...</td>\n",
       "      <td>...</td>\n",
       "      <td>...</td>\n",
       "      <td>...</td>\n",
       "      <td>...</td>\n",
       "      <td>...</td>\n",
       "      <td>...</td>\n",
       "      <td>...</td>\n",
       "      <td>...</td>\n",
       "    </tr>\n",
       "    <tr>\n",
       "      <th>918</th>\n",
       "      <td>2019</td>\n",
       "      <td>Economic Sciences</td>\n",
       "      <td>3</td>\n",
       "      <td>9000000</td>\n",
       "      <td>14-10-2019</td>\n",
       "      <td>for their experimental approach to alleviating...</td>\n",
       "      <td>984</td>\n",
       "      <td>Michael Kremer</td>\n",
       "      <td>male</td>\n",
       "      <td>12-11-1964</td>\n",
       "      <td>New York, NY</td>\n",
       "      <td>USA</td>\n",
       "      <td>Unknown</td>\n",
       "      <td>Unknown</td>\n",
       "      <td>Unknown</td>\n",
       "      <td>Individual</td>\n",
       "      <td>Harvard University, Cambridge, MA, USA</td>\n",
       "    </tr>\n",
       "    <tr>\n",
       "      <th>919</th>\n",
       "      <td>2019</td>\n",
       "      <td>Physics</td>\n",
       "      <td>2</td>\n",
       "      <td>9000000</td>\n",
       "      <td>08-10-2019</td>\n",
       "      <td>for the discovery of an exoplanet orbiting a s...</td>\n",
       "      <td>974</td>\n",
       "      <td>Michel Mayor</td>\n",
       "      <td>male</td>\n",
       "      <td>12-01-1942</td>\n",
       "      <td>Lausanne</td>\n",
       "      <td>Switzerland</td>\n",
       "      <td>Unknown</td>\n",
       "      <td>Unknown</td>\n",
       "      <td>Unknown</td>\n",
       "      <td>Individual</td>\n",
       "      <td>University of Geneva, Geneva, Switzerland</td>\n",
       "    </tr>\n",
       "    <tr>\n",
       "      <th>920</th>\n",
       "      <td>2019</td>\n",
       "      <td>Literature</td>\n",
       "      <td>1</td>\n",
       "      <td>9000000</td>\n",
       "      <td>10-10-2019</td>\n",
       "      <td>for an influential work that with linguistic i...</td>\n",
       "      <td>980</td>\n",
       "      <td>Peter Handke</td>\n",
       "      <td>male</td>\n",
       "      <td>06-12-1942</td>\n",
       "      <td>Griffen</td>\n",
       "      <td>Austria</td>\n",
       "      <td>Unknown</td>\n",
       "      <td>Unknown</td>\n",
       "      <td>Unknown</td>\n",
       "      <td>Individual</td>\n",
       "      <td>Unknown</td>\n",
       "    </tr>\n",
       "    <tr>\n",
       "      <th>921</th>\n",
       "      <td>2019</td>\n",
       "      <td>Medicine</td>\n",
       "      <td>2</td>\n",
       "      <td>9000000</td>\n",
       "      <td>07-10-2019</td>\n",
       "      <td>for their discoveries of how cells sense and a...</td>\n",
       "      <td>971</td>\n",
       "      <td>Sir Peter J. Ratcliffe</td>\n",
       "      <td>male</td>\n",
       "      <td>14-05-1954</td>\n",
       "      <td>Lancashire</td>\n",
       "      <td>United Kingdom</td>\n",
       "      <td>Unknown</td>\n",
       "      <td>Unknown</td>\n",
       "      <td>Unknown</td>\n",
       "      <td>Individual</td>\n",
       "      <td>University of Oxford, Oxford, United Kingdom</td>\n",
       "    </tr>\n",
       "    <tr>\n",
       "      <th>922</th>\n",
       "      <td>2019</td>\n",
       "      <td>Medicine</td>\n",
       "      <td>1</td>\n",
       "      <td>9000000</td>\n",
       "      <td>07-10-2019</td>\n",
       "      <td>for their discoveries of how cells sense and a...</td>\n",
       "      <td>970</td>\n",
       "      <td>William G. Kaelin Jr</td>\n",
       "      <td>male</td>\n",
       "      <td>23-11-1957</td>\n",
       "      <td>New York, NY</td>\n",
       "      <td>USA</td>\n",
       "      <td>Unknown</td>\n",
       "      <td>Unknown</td>\n",
       "      <td>Unknown</td>\n",
       "      <td>Individual</td>\n",
       "      <td>Harvard Medical School, Boston, MA, USA</td>\n",
       "    </tr>\n",
       "  </tbody>\n",
       "</table>\n",
       "<p>923 rows × 17 columns</p>\n",
       "</div>"
      ],
      "text/plain": [
       "     AwardYear           category  sortOrder  prizeAmount dateAwarded  \\\n",
       "0         1901           Medicine          1       150782     Unknown   \n",
       "1         1901              Peace          2       150782  10-12-1901   \n",
       "2         1901              Peace          1       150782  10-12-1901   \n",
       "3         1901          Chemistry          1       150782     Unknown   \n",
       "4         1901         Literature          1       150782     Unknown   \n",
       "..         ...                ...        ...          ...         ...   \n",
       "918       2019  Economic Sciences          3      9000000  14-10-2019   \n",
       "919       2019            Physics          2      9000000  08-10-2019   \n",
       "920       2019         Literature          1      9000000  10-10-2019   \n",
       "921       2019           Medicine          2      9000000  07-10-2019   \n",
       "922       2019           Medicine          1      9000000  07-10-2019   \n",
       "\n",
       "                                            motivation   id  \\\n",
       "0    for his work on serum therapy, especially its ...  293   \n",
       "1    for his lifelong work for international peace ...  463   \n",
       "2    for his humanitarian efforts to help wounded s...  462   \n",
       "3    in recognition of the extraordinary services h...  160   \n",
       "4    in special recognition of his poetic compositi...  569   \n",
       "..                                                 ...  ...   \n",
       "918  for their experimental approach to alleviating...  984   \n",
       "919  for the discovery of an exoplanet orbiting a s...  974   \n",
       "920  for an influential work that with linguistic i...  980   \n",
       "921  for their discoveries of how cells sense and a...  971   \n",
       "922  for their discoveries of how cells sense and a...  970   \n",
       "\n",
       "                         fullName gender  birth_date    birth_city  \\\n",
       "0          Emil Adolf von Behring   male  1854-03-15      Hansdorf   \n",
       "1                  Frédéric Passy   male  1822-05-20         Paris   \n",
       "2               Jean Henry Dunant   male  1828-05-08        Geneva   \n",
       "3    Jacobus Henricus van 't Hoff   male  1852-08-30     Rotterdam   \n",
       "4                 Sully Prudhomme   male  1839-03-16         Paris   \n",
       "..                            ...    ...         ...           ...   \n",
       "918                Michael Kremer   male  12-11-1964  New York, NY   \n",
       "919                  Michel Mayor   male  12-01-1942      Lausanne   \n",
       "920                  Peter Handke   male  06-12-1942       Griffen   \n",
       "921        Sir Peter J. Ratcliffe   male  14-05-1954    Lancashire   \n",
       "922          William G. Kaelin Jr   male  23-11-1957  New York, NY   \n",
       "\n",
       "       birth_country  death_date death_city death_country  ind_or_org  \\\n",
       "0            Prussia  31-03-1917    Marburg       Germany  Individual   \n",
       "1             France  12-06-1912      Paris        France  Individual   \n",
       "2        Switzerland  30-10-1910     Heiden   Switzerland  Individual   \n",
       "3    the Netherlands  01-03-1911     Berlin       Germany  Individual   \n",
       "4             France  07-09-1907   Châtenay        France  Individual   \n",
       "..               ...         ...        ...           ...         ...   \n",
       "918              USA     Unknown    Unknown       Unknown  Individual   \n",
       "919      Switzerland     Unknown    Unknown       Unknown  Individual   \n",
       "920          Austria     Unknown    Unknown       Unknown  Individual   \n",
       "921   United Kingdom     Unknown    Unknown       Unknown  Individual   \n",
       "922              USA     Unknown    Unknown       Unknown  Individual   \n",
       "\n",
       "                                    affiliation_1  \n",
       "0            Marburg University, Marburg, Germany  \n",
       "1                                         Unknown  \n",
       "2                                         Unknown  \n",
       "3              Berlin University, Berlin, Germany  \n",
       "4                                         Unknown  \n",
       "..                                            ...  \n",
       "918        Harvard University, Cambridge, MA, USA  \n",
       "919     University of Geneva, Geneva, Switzerland  \n",
       "920                                       Unknown  \n",
       "921  University of Oxford, Oxford, United Kingdom  \n",
       "922       Harvard Medical School, Boston, MA, USA  \n",
       "\n",
       "[923 rows x 17 columns]"
      ]
     },
     "execution_count": 22,
     "metadata": {},
     "output_type": "execute_result"
    }
   ],
   "source": [
    "df"
   ]
  },
  {
   "cell_type": "code",
   "execution_count": 23,
   "id": "383580a0",
   "metadata": {},
   "outputs": [
    {
     "name": "stdout",
     "output_type": "stream",
     "text": [
      "<class 'pandas.core.frame.DataFrame'>\n",
      "RangeIndex: 923 entries, 0 to 922\n",
      "Data columns (total 17 columns):\n",
      " #   Column         Non-Null Count  Dtype \n",
      "---  ------         --------------  ----- \n",
      " 0   AwardYear      923 non-null    int64 \n",
      " 1   category       923 non-null    object\n",
      " 2   sortOrder      923 non-null    int64 \n",
      " 3   prizeAmount    923 non-null    int64 \n",
      " 4   dateAwarded    923 non-null    object\n",
      " 5   motivation     923 non-null    object\n",
      " 6   id             923 non-null    int64 \n",
      " 7   fullName       923 non-null    object\n",
      " 8   gender         923 non-null    object\n",
      " 9   birth_date     923 non-null    object\n",
      " 10  birth_city     923 non-null    object\n",
      " 11  birth_country  923 non-null    object\n",
      " 12  death_date     923 non-null    object\n",
      " 13  death_city     923 non-null    object\n",
      " 14  death_country  923 non-null    object\n",
      " 15  ind_or_org     923 non-null    object\n",
      " 16  affiliation_1  923 non-null    object\n",
      "dtypes: int64(4), object(13)\n",
      "memory usage: 122.7+ KB\n"
     ]
    }
   ],
   "source": [
    "df.info()"
   ]
  },
  {
   "cell_type": "markdown",
   "id": "176f328b",
   "metadata": {},
   "source": [
    "### 3.3) Handling Duplicates values:\n",
    "Are there any duplicated values?"
   ]
  },
  {
   "cell_type": "code",
   "execution_count": 24,
   "id": "94e8a705",
   "metadata": {
    "scrolled": false
   },
   "outputs": [
    {
     "data": {
      "text/plain": [
       "0"
      ]
     },
     "execution_count": 24,
     "metadata": {},
     "output_type": "execute_result"
    }
   ],
   "source": [
    "df.duplicated().sum()"
   ]
  },
  {
   "cell_type": "markdown",
   "id": "45526a07",
   "metadata": {},
   "source": [
    "##### No , there is no duplicated values in the dataset ."
   ]
  },
  {
   "cell_type": "markdown",
   "id": "ef65c150",
   "metadata": {},
   "source": [
    "### 3.4) Rename column name :"
   ]
  },
  {
   "cell_type": "code",
   "execution_count": 25,
   "id": "a3114fd9",
   "metadata": {
    "scrolled": true
   },
   "outputs": [],
   "source": [
    "#Pandas rename () method is used to rename any index, column or row.\n",
    "df.rename(columns={'category':'Category','sortOrder':'Prize_Share','prizeAmount':'Prize_Amount','dateAwarded':'Date_Awarded','motivation':'Motivation','id':'Laureate_Id','fullName':'Name','gender':'Gender','birth_date':'Birth_Date','birth_city':'Birth_City','birth_country':'Birth_Country','death_date':'Death_Date','death_city':'Death_City','death_country':'Death_Country','ind_or_org':'Ind_or_Org','affiliation_1':'Organization_Name'}, inplace=True)"
   ]
  },
  {
   "cell_type": "code",
   "execution_count": 26,
   "id": "224e0d4f",
   "metadata": {},
   "outputs": [
    {
     "data": {
      "text/plain": [
       "Index(['AwardYear', 'Category', 'Prize_Share', 'Prize_Amount', 'Date_Awarded',\n",
       "       'Motivation', 'Laureate_Id', 'Name', 'Gender', 'Birth_Date',\n",
       "       'Birth_City', 'Birth_Country', 'Death_Date', 'Death_City',\n",
       "       'Death_Country', 'Ind_or_Org', 'Organization_Name'],\n",
       "      dtype='object')"
      ]
     },
     "execution_count": 26,
     "metadata": {},
     "output_type": "execute_result"
    }
   ],
   "source": [
    "df.columns"
   ]
  },
  {
   "cell_type": "markdown",
   "id": "1db5f62c",
   "metadata": {},
   "source": [
    "### 3.5) Adding New columns :"
   ]
  },
  {
   "cell_type": "markdown",
   "id": "b0d4061b",
   "metadata": {},
   "source": [
    "###  Winning_Age:"
   ]
  },
  {
   "cell_type": "code",
   "execution_count": 27,
   "id": "3510d38c",
   "metadata": {},
   "outputs": [],
   "source": [
    "# Converting Birth_Date from String to datetime\n",
    "df['Birth_Date'] = pd.to_datetime(df['Birth_Date'], errors='coerce')\n",
    "\n",
    "# Calculating the Winning_Age of Nobel Prize winners\n",
    "df['Winning_Age'] = df['AwardYear'] - df['Birth_Date'].dt.year\n",
    "\n"
   ]
  },
  {
   "cell_type": "markdown",
   "id": "8e207e61",
   "metadata": {},
   "source": [
    "### 3.6) Changing Gender name:"
   ]
  },
  {
   "cell_type": "code",
   "execution_count": 28,
   "id": "61509ea4",
   "metadata": {},
   "outputs": [],
   "source": [
    "df.loc[df['Gender'] == \"male\", \"Gender\"] = \"Male\""
   ]
  },
  {
   "cell_type": "code",
   "execution_count": 29,
   "id": "4df534da",
   "metadata": {},
   "outputs": [],
   "source": [
    "df.loc[df['Gender'] == \"female\", \"Gender\"] = \"FeMale\""
   ]
  },
  {
   "cell_type": "markdown",
   "id": "50082a9a",
   "metadata": {},
   "source": [
    "### 3.7) Sorting Values by Column:"
   ]
  },
  {
   "cell_type": "code",
   "execution_count": 30,
   "id": "8a9f1172",
   "metadata": {
    "scrolled": true
   },
   "outputs": [
    {
     "data": {
      "text/html": [
       "<div>\n",
       "<style scoped>\n",
       "    .dataframe tbody tr th:only-of-type {\n",
       "        vertical-align: middle;\n",
       "    }\n",
       "\n",
       "    .dataframe tbody tr th {\n",
       "        vertical-align: top;\n",
       "    }\n",
       "\n",
       "    .dataframe thead th {\n",
       "        text-align: right;\n",
       "    }\n",
       "</style>\n",
       "<table border=\"1\" class=\"dataframe\">\n",
       "  <thead>\n",
       "    <tr style=\"text-align: right;\">\n",
       "      <th></th>\n",
       "      <th>AwardYear</th>\n",
       "      <th>Category</th>\n",
       "      <th>Prize_Share</th>\n",
       "      <th>Prize_Amount</th>\n",
       "      <th>Date_Awarded</th>\n",
       "      <th>Motivation</th>\n",
       "      <th>Laureate_Id</th>\n",
       "      <th>Name</th>\n",
       "      <th>Gender</th>\n",
       "      <th>Birth_Date</th>\n",
       "      <th>Birth_City</th>\n",
       "      <th>Birth_Country</th>\n",
       "      <th>Death_Date</th>\n",
       "      <th>Death_City</th>\n",
       "      <th>Death_Country</th>\n",
       "      <th>Ind_or_Org</th>\n",
       "      <th>Organization_Name</th>\n",
       "      <th>Winning_Age</th>\n",
       "    </tr>\n",
       "  </thead>\n",
       "  <tbody>\n",
       "    <tr>\n",
       "      <th>0</th>\n",
       "      <td>1901</td>\n",
       "      <td>Medicine</td>\n",
       "      <td>1</td>\n",
       "      <td>150782</td>\n",
       "      <td>Unknown</td>\n",
       "      <td>for his work on serum therapy, especially its ...</td>\n",
       "      <td>293</td>\n",
       "      <td>Emil Adolf von Behring</td>\n",
       "      <td>Male</td>\n",
       "      <td>1854-03-15</td>\n",
       "      <td>Hansdorf</td>\n",
       "      <td>Prussia</td>\n",
       "      <td>31-03-1917</td>\n",
       "      <td>Marburg</td>\n",
       "      <td>Germany</td>\n",
       "      <td>Individual</td>\n",
       "      <td>Marburg University, Marburg, Germany</td>\n",
       "      <td>47</td>\n",
       "    </tr>\n",
       "    <tr>\n",
       "      <th>1</th>\n",
       "      <td>1901</td>\n",
       "      <td>Peace</td>\n",
       "      <td>2</td>\n",
       "      <td>150782</td>\n",
       "      <td>10-12-1901</td>\n",
       "      <td>for his lifelong work for international peace ...</td>\n",
       "      <td>463</td>\n",
       "      <td>Frédéric Passy</td>\n",
       "      <td>Male</td>\n",
       "      <td>1822-05-20</td>\n",
       "      <td>Paris</td>\n",
       "      <td>France</td>\n",
       "      <td>12-06-1912</td>\n",
       "      <td>Paris</td>\n",
       "      <td>France</td>\n",
       "      <td>Individual</td>\n",
       "      <td>Unknown</td>\n",
       "      <td>79</td>\n",
       "    </tr>\n",
       "    <tr>\n",
       "      <th>2</th>\n",
       "      <td>1901</td>\n",
       "      <td>Peace</td>\n",
       "      <td>1</td>\n",
       "      <td>150782</td>\n",
       "      <td>10-12-1901</td>\n",
       "      <td>for his humanitarian efforts to help wounded s...</td>\n",
       "      <td>462</td>\n",
       "      <td>Jean Henry Dunant</td>\n",
       "      <td>Male</td>\n",
       "      <td>1828-05-08</td>\n",
       "      <td>Geneva</td>\n",
       "      <td>Switzerland</td>\n",
       "      <td>30-10-1910</td>\n",
       "      <td>Heiden</td>\n",
       "      <td>Switzerland</td>\n",
       "      <td>Individual</td>\n",
       "      <td>Unknown</td>\n",
       "      <td>73</td>\n",
       "    </tr>\n",
       "    <tr>\n",
       "      <th>3</th>\n",
       "      <td>1901</td>\n",
       "      <td>Chemistry</td>\n",
       "      <td>1</td>\n",
       "      <td>150782</td>\n",
       "      <td>Unknown</td>\n",
       "      <td>in recognition of the extraordinary services h...</td>\n",
       "      <td>160</td>\n",
       "      <td>Jacobus Henricus van 't Hoff</td>\n",
       "      <td>Male</td>\n",
       "      <td>1852-08-30</td>\n",
       "      <td>Rotterdam</td>\n",
       "      <td>the Netherlands</td>\n",
       "      <td>01-03-1911</td>\n",
       "      <td>Berlin</td>\n",
       "      <td>Germany</td>\n",
       "      <td>Individual</td>\n",
       "      <td>Berlin University, Berlin, Germany</td>\n",
       "      <td>49</td>\n",
       "    </tr>\n",
       "    <tr>\n",
       "      <th>4</th>\n",
       "      <td>1901</td>\n",
       "      <td>Literature</td>\n",
       "      <td>1</td>\n",
       "      <td>150782</td>\n",
       "      <td>Unknown</td>\n",
       "      <td>in special recognition of his poetic compositi...</td>\n",
       "      <td>569</td>\n",
       "      <td>Sully Prudhomme</td>\n",
       "      <td>Male</td>\n",
       "      <td>1839-03-16</td>\n",
       "      <td>Paris</td>\n",
       "      <td>France</td>\n",
       "      <td>07-09-1907</td>\n",
       "      <td>Châtenay</td>\n",
       "      <td>France</td>\n",
       "      <td>Individual</td>\n",
       "      <td>Unknown</td>\n",
       "      <td>62</td>\n",
       "    </tr>\n",
       "  </tbody>\n",
       "</table>\n",
       "</div>"
      ],
      "text/plain": [
       "   AwardYear    Category  Prize_Share  Prize_Amount Date_Awarded  \\\n",
       "0       1901    Medicine            1        150782      Unknown   \n",
       "1       1901       Peace            2        150782   10-12-1901   \n",
       "2       1901       Peace            1        150782   10-12-1901   \n",
       "3       1901   Chemistry            1        150782      Unknown   \n",
       "4       1901  Literature            1        150782      Unknown   \n",
       "\n",
       "                                          Motivation  Laureate_Id  \\\n",
       "0  for his work on serum therapy, especially its ...          293   \n",
       "1  for his lifelong work for international peace ...          463   \n",
       "2  for his humanitarian efforts to help wounded s...          462   \n",
       "3  in recognition of the extraordinary services h...          160   \n",
       "4  in special recognition of his poetic compositi...          569   \n",
       "\n",
       "                           Name Gender Birth_Date Birth_City    Birth_Country  \\\n",
       "0        Emil Adolf von Behring   Male 1854-03-15   Hansdorf          Prussia   \n",
       "1                Frédéric Passy   Male 1822-05-20      Paris           France   \n",
       "2             Jean Henry Dunant   Male 1828-05-08     Geneva      Switzerland   \n",
       "3  Jacobus Henricus van 't Hoff   Male 1852-08-30  Rotterdam  the Netherlands   \n",
       "4               Sully Prudhomme   Male 1839-03-16      Paris           France   \n",
       "\n",
       "   Death_Date Death_City Death_Country  Ind_or_Org  \\\n",
       "0  31-03-1917    Marburg       Germany  Individual   \n",
       "1  12-06-1912      Paris        France  Individual   \n",
       "2  30-10-1910     Heiden   Switzerland  Individual   \n",
       "3  01-03-1911     Berlin       Germany  Individual   \n",
       "4  07-09-1907   Châtenay        France  Individual   \n",
       "\n",
       "                      Organization_Name  Winning_Age  \n",
       "0  Marburg University, Marburg, Germany           47  \n",
       "1                               Unknown           79  \n",
       "2                               Unknown           73  \n",
       "3    Berlin University, Berlin, Germany           49  \n",
       "4                               Unknown           62  "
      ]
     },
     "execution_count": 30,
     "metadata": {},
     "output_type": "execute_result"
    }
   ],
   "source": [
    "df.sort_values(by=\"AwardYear\", ascending=True).head()"
   ]
  },
  {
   "cell_type": "markdown",
   "id": "e0894481",
   "metadata": {},
   "source": [
    "### 3.8) Rearrange the column of dataframe by column name:\n",
    "\n",
    "The following code shows how to sort a pandas DataFrame by column names:"
   ]
  },
  {
   "cell_type": "code",
   "execution_count": 31,
   "id": "ad20d185",
   "metadata": {},
   "outputs": [],
   "source": [
    "df = df[['AwardYear', 'Name', 'Gender', 'Prize_Share','Birth_Date', 'Birth_City', 'Birth_Country', 'Death_Date', 'Death_City','Death_Country', 'Category', 'Laureate_Id', 'Prize_Amount', 'Date_Awarded', 'Motivation', 'Ind_or_Org', 'Organization_Name', 'Winning_Age']]"
   ]
  },
  {
   "cell_type": "code",
   "execution_count": 32,
   "id": "6f00744f",
   "metadata": {
    "scrolled": true
   },
   "outputs": [
    {
     "data": {
      "text/html": [
       "<div>\n",
       "<style scoped>\n",
       "    .dataframe tbody tr th:only-of-type {\n",
       "        vertical-align: middle;\n",
       "    }\n",
       "\n",
       "    .dataframe tbody tr th {\n",
       "        vertical-align: top;\n",
       "    }\n",
       "\n",
       "    .dataframe thead th {\n",
       "        text-align: right;\n",
       "    }\n",
       "</style>\n",
       "<table border=\"1\" class=\"dataframe\">\n",
       "  <thead>\n",
       "    <tr style=\"text-align: right;\">\n",
       "      <th></th>\n",
       "      <th>AwardYear</th>\n",
       "      <th>Name</th>\n",
       "      <th>Gender</th>\n",
       "      <th>Prize_Share</th>\n",
       "      <th>Birth_Date</th>\n",
       "      <th>Birth_City</th>\n",
       "      <th>Birth_Country</th>\n",
       "      <th>Death_Date</th>\n",
       "      <th>Death_City</th>\n",
       "      <th>Death_Country</th>\n",
       "      <th>Category</th>\n",
       "      <th>Laureate_Id</th>\n",
       "      <th>Prize_Amount</th>\n",
       "      <th>Date_Awarded</th>\n",
       "      <th>Motivation</th>\n",
       "      <th>Ind_or_Org</th>\n",
       "      <th>Organization_Name</th>\n",
       "      <th>Winning_Age</th>\n",
       "    </tr>\n",
       "  </thead>\n",
       "  <tbody>\n",
       "    <tr>\n",
       "      <th>0</th>\n",
       "      <td>1901</td>\n",
       "      <td>Emil Adolf von Behring</td>\n",
       "      <td>Male</td>\n",
       "      <td>1</td>\n",
       "      <td>1854-03-15</td>\n",
       "      <td>Hansdorf</td>\n",
       "      <td>Prussia</td>\n",
       "      <td>31-03-1917</td>\n",
       "      <td>Marburg</td>\n",
       "      <td>Germany</td>\n",
       "      <td>Medicine</td>\n",
       "      <td>293</td>\n",
       "      <td>150782</td>\n",
       "      <td>Unknown</td>\n",
       "      <td>for his work on serum therapy, especially its ...</td>\n",
       "      <td>Individual</td>\n",
       "      <td>Marburg University, Marburg, Germany</td>\n",
       "      <td>47</td>\n",
       "    </tr>\n",
       "    <tr>\n",
       "      <th>1</th>\n",
       "      <td>1901</td>\n",
       "      <td>Frédéric Passy</td>\n",
       "      <td>Male</td>\n",
       "      <td>2</td>\n",
       "      <td>1822-05-20</td>\n",
       "      <td>Paris</td>\n",
       "      <td>France</td>\n",
       "      <td>12-06-1912</td>\n",
       "      <td>Paris</td>\n",
       "      <td>France</td>\n",
       "      <td>Peace</td>\n",
       "      <td>463</td>\n",
       "      <td>150782</td>\n",
       "      <td>10-12-1901</td>\n",
       "      <td>for his lifelong work for international peace ...</td>\n",
       "      <td>Individual</td>\n",
       "      <td>Unknown</td>\n",
       "      <td>79</td>\n",
       "    </tr>\n",
       "    <tr>\n",
       "      <th>2</th>\n",
       "      <td>1901</td>\n",
       "      <td>Jean Henry Dunant</td>\n",
       "      <td>Male</td>\n",
       "      <td>1</td>\n",
       "      <td>1828-05-08</td>\n",
       "      <td>Geneva</td>\n",
       "      <td>Switzerland</td>\n",
       "      <td>30-10-1910</td>\n",
       "      <td>Heiden</td>\n",
       "      <td>Switzerland</td>\n",
       "      <td>Peace</td>\n",
       "      <td>462</td>\n",
       "      <td>150782</td>\n",
       "      <td>10-12-1901</td>\n",
       "      <td>for his humanitarian efforts to help wounded s...</td>\n",
       "      <td>Individual</td>\n",
       "      <td>Unknown</td>\n",
       "      <td>73</td>\n",
       "    </tr>\n",
       "    <tr>\n",
       "      <th>3</th>\n",
       "      <td>1901</td>\n",
       "      <td>Jacobus Henricus van 't Hoff</td>\n",
       "      <td>Male</td>\n",
       "      <td>1</td>\n",
       "      <td>1852-08-30</td>\n",
       "      <td>Rotterdam</td>\n",
       "      <td>the Netherlands</td>\n",
       "      <td>01-03-1911</td>\n",
       "      <td>Berlin</td>\n",
       "      <td>Germany</td>\n",
       "      <td>Chemistry</td>\n",
       "      <td>160</td>\n",
       "      <td>150782</td>\n",
       "      <td>Unknown</td>\n",
       "      <td>in recognition of the extraordinary services h...</td>\n",
       "      <td>Individual</td>\n",
       "      <td>Berlin University, Berlin, Germany</td>\n",
       "      <td>49</td>\n",
       "    </tr>\n",
       "    <tr>\n",
       "      <th>4</th>\n",
       "      <td>1901</td>\n",
       "      <td>Sully Prudhomme</td>\n",
       "      <td>Male</td>\n",
       "      <td>1</td>\n",
       "      <td>1839-03-16</td>\n",
       "      <td>Paris</td>\n",
       "      <td>France</td>\n",
       "      <td>07-09-1907</td>\n",
       "      <td>Châtenay</td>\n",
       "      <td>France</td>\n",
       "      <td>Literature</td>\n",
       "      <td>569</td>\n",
       "      <td>150782</td>\n",
       "      <td>Unknown</td>\n",
       "      <td>in special recognition of his poetic compositi...</td>\n",
       "      <td>Individual</td>\n",
       "      <td>Unknown</td>\n",
       "      <td>62</td>\n",
       "    </tr>\n",
       "    <tr>\n",
       "      <th>...</th>\n",
       "      <td>...</td>\n",
       "      <td>...</td>\n",
       "      <td>...</td>\n",
       "      <td>...</td>\n",
       "      <td>...</td>\n",
       "      <td>...</td>\n",
       "      <td>...</td>\n",
       "      <td>...</td>\n",
       "      <td>...</td>\n",
       "      <td>...</td>\n",
       "      <td>...</td>\n",
       "      <td>...</td>\n",
       "      <td>...</td>\n",
       "      <td>...</td>\n",
       "      <td>...</td>\n",
       "      <td>...</td>\n",
       "      <td>...</td>\n",
       "      <td>...</td>\n",
       "    </tr>\n",
       "    <tr>\n",
       "      <th>918</th>\n",
       "      <td>2019</td>\n",
       "      <td>Michael Kremer</td>\n",
       "      <td>Male</td>\n",
       "      <td>3</td>\n",
       "      <td>1964-12-11</td>\n",
       "      <td>New York, NY</td>\n",
       "      <td>USA</td>\n",
       "      <td>Unknown</td>\n",
       "      <td>Unknown</td>\n",
       "      <td>Unknown</td>\n",
       "      <td>Economic Sciences</td>\n",
       "      <td>984</td>\n",
       "      <td>9000000</td>\n",
       "      <td>14-10-2019</td>\n",
       "      <td>for their experimental approach to alleviating...</td>\n",
       "      <td>Individual</td>\n",
       "      <td>Harvard University, Cambridge, MA, USA</td>\n",
       "      <td>55</td>\n",
       "    </tr>\n",
       "    <tr>\n",
       "      <th>919</th>\n",
       "      <td>2019</td>\n",
       "      <td>Michel Mayor</td>\n",
       "      <td>Male</td>\n",
       "      <td>2</td>\n",
       "      <td>1942-12-01</td>\n",
       "      <td>Lausanne</td>\n",
       "      <td>Switzerland</td>\n",
       "      <td>Unknown</td>\n",
       "      <td>Unknown</td>\n",
       "      <td>Unknown</td>\n",
       "      <td>Physics</td>\n",
       "      <td>974</td>\n",
       "      <td>9000000</td>\n",
       "      <td>08-10-2019</td>\n",
       "      <td>for the discovery of an exoplanet orbiting a s...</td>\n",
       "      <td>Individual</td>\n",
       "      <td>University of Geneva, Geneva, Switzerland</td>\n",
       "      <td>77</td>\n",
       "    </tr>\n",
       "    <tr>\n",
       "      <th>920</th>\n",
       "      <td>2019</td>\n",
       "      <td>Peter Handke</td>\n",
       "      <td>Male</td>\n",
       "      <td>1</td>\n",
       "      <td>1942-06-12</td>\n",
       "      <td>Griffen</td>\n",
       "      <td>Austria</td>\n",
       "      <td>Unknown</td>\n",
       "      <td>Unknown</td>\n",
       "      <td>Unknown</td>\n",
       "      <td>Literature</td>\n",
       "      <td>980</td>\n",
       "      <td>9000000</td>\n",
       "      <td>10-10-2019</td>\n",
       "      <td>for an influential work that with linguistic i...</td>\n",
       "      <td>Individual</td>\n",
       "      <td>Unknown</td>\n",
       "      <td>77</td>\n",
       "    </tr>\n",
       "    <tr>\n",
       "      <th>921</th>\n",
       "      <td>2019</td>\n",
       "      <td>Sir Peter J. Ratcliffe</td>\n",
       "      <td>Male</td>\n",
       "      <td>2</td>\n",
       "      <td>1954-05-14</td>\n",
       "      <td>Lancashire</td>\n",
       "      <td>United Kingdom</td>\n",
       "      <td>Unknown</td>\n",
       "      <td>Unknown</td>\n",
       "      <td>Unknown</td>\n",
       "      <td>Medicine</td>\n",
       "      <td>971</td>\n",
       "      <td>9000000</td>\n",
       "      <td>07-10-2019</td>\n",
       "      <td>for their discoveries of how cells sense and a...</td>\n",
       "      <td>Individual</td>\n",
       "      <td>University of Oxford, Oxford, United Kingdom</td>\n",
       "      <td>65</td>\n",
       "    </tr>\n",
       "    <tr>\n",
       "      <th>922</th>\n",
       "      <td>2019</td>\n",
       "      <td>William G. Kaelin Jr</td>\n",
       "      <td>Male</td>\n",
       "      <td>1</td>\n",
       "      <td>1957-11-23</td>\n",
       "      <td>New York, NY</td>\n",
       "      <td>USA</td>\n",
       "      <td>Unknown</td>\n",
       "      <td>Unknown</td>\n",
       "      <td>Unknown</td>\n",
       "      <td>Medicine</td>\n",
       "      <td>970</td>\n",
       "      <td>9000000</td>\n",
       "      <td>07-10-2019</td>\n",
       "      <td>for their discoveries of how cells sense and a...</td>\n",
       "      <td>Individual</td>\n",
       "      <td>Harvard Medical School, Boston, MA, USA</td>\n",
       "      <td>62</td>\n",
       "    </tr>\n",
       "  </tbody>\n",
       "</table>\n",
       "<p>923 rows × 18 columns</p>\n",
       "</div>"
      ],
      "text/plain": [
       "     AwardYear                          Name Gender  Prize_Share Birth_Date  \\\n",
       "0         1901        Emil Adolf von Behring   Male            1 1854-03-15   \n",
       "1         1901                Frédéric Passy   Male            2 1822-05-20   \n",
       "2         1901             Jean Henry Dunant   Male            1 1828-05-08   \n",
       "3         1901  Jacobus Henricus van 't Hoff   Male            1 1852-08-30   \n",
       "4         1901               Sully Prudhomme   Male            1 1839-03-16   \n",
       "..         ...                           ...    ...          ...        ...   \n",
       "918       2019                Michael Kremer   Male            3 1964-12-11   \n",
       "919       2019                  Michel Mayor   Male            2 1942-12-01   \n",
       "920       2019                  Peter Handke   Male            1 1942-06-12   \n",
       "921       2019        Sir Peter J. Ratcliffe   Male            2 1954-05-14   \n",
       "922       2019          William G. Kaelin Jr   Male            1 1957-11-23   \n",
       "\n",
       "       Birth_City    Birth_Country  Death_Date Death_City Death_Country  \\\n",
       "0        Hansdorf          Prussia  31-03-1917    Marburg       Germany   \n",
       "1           Paris           France  12-06-1912      Paris        France   \n",
       "2          Geneva      Switzerland  30-10-1910     Heiden   Switzerland   \n",
       "3       Rotterdam  the Netherlands  01-03-1911     Berlin       Germany   \n",
       "4           Paris           France  07-09-1907   Châtenay        France   \n",
       "..            ...              ...         ...        ...           ...   \n",
       "918  New York, NY              USA     Unknown    Unknown       Unknown   \n",
       "919      Lausanne      Switzerland     Unknown    Unknown       Unknown   \n",
       "920       Griffen          Austria     Unknown    Unknown       Unknown   \n",
       "921    Lancashire   United Kingdom     Unknown    Unknown       Unknown   \n",
       "922  New York, NY              USA     Unknown    Unknown       Unknown   \n",
       "\n",
       "              Category  Laureate_Id  Prize_Amount Date_Awarded  \\\n",
       "0             Medicine          293        150782      Unknown   \n",
       "1                Peace          463        150782   10-12-1901   \n",
       "2                Peace          462        150782   10-12-1901   \n",
       "3            Chemistry          160        150782      Unknown   \n",
       "4           Literature          569        150782      Unknown   \n",
       "..                 ...          ...           ...          ...   \n",
       "918  Economic Sciences          984       9000000   14-10-2019   \n",
       "919            Physics          974       9000000   08-10-2019   \n",
       "920         Literature          980       9000000   10-10-2019   \n",
       "921           Medicine          971       9000000   07-10-2019   \n",
       "922           Medicine          970       9000000   07-10-2019   \n",
       "\n",
       "                                            Motivation  Ind_or_Org  \\\n",
       "0    for his work on serum therapy, especially its ...  Individual   \n",
       "1    for his lifelong work for international peace ...  Individual   \n",
       "2    for his humanitarian efforts to help wounded s...  Individual   \n",
       "3    in recognition of the extraordinary services h...  Individual   \n",
       "4    in special recognition of his poetic compositi...  Individual   \n",
       "..                                                 ...         ...   \n",
       "918  for their experimental approach to alleviating...  Individual   \n",
       "919  for the discovery of an exoplanet orbiting a s...  Individual   \n",
       "920  for an influential work that with linguistic i...  Individual   \n",
       "921  for their discoveries of how cells sense and a...  Individual   \n",
       "922  for their discoveries of how cells sense and a...  Individual   \n",
       "\n",
       "                                Organization_Name  Winning_Age  \n",
       "0            Marburg University, Marburg, Germany           47  \n",
       "1                                         Unknown           79  \n",
       "2                                         Unknown           73  \n",
       "3              Berlin University, Berlin, Germany           49  \n",
       "4                                         Unknown           62  \n",
       "..                                            ...          ...  \n",
       "918        Harvard University, Cambridge, MA, USA           55  \n",
       "919     University of Geneva, Geneva, Switzerland           77  \n",
       "920                                       Unknown           77  \n",
       "921  University of Oxford, Oxford, United Kingdom           65  \n",
       "922       Harvard Medical School, Boston, MA, USA           62  \n",
       "\n",
       "[923 rows x 18 columns]"
      ]
     },
     "execution_count": 32,
     "metadata": {},
     "output_type": "execute_result"
    }
   ],
   "source": [
    "df"
   ]
  },
  {
   "cell_type": "markdown",
   "id": "be8e3b73",
   "metadata": {},
   "source": [
    "## 4) Visualization :\n",
    "\n",
    "Data visualization is the graphical representation of information and data. By using visual elements like charts, graphs, and maps, data visuazlization tools provide an accessible way to see and understand trends, outliers, and patterns in data. Additionally, it provides an excellent way for employees or business owners to present data to non-technical audiences without confusion."
   ]
  },
  {
   "cell_type": "markdown",
   "id": "b0813c7e",
   "metadata": {},
   "source": [
    "## 4.1) Analyzing the AwardYear Column."
   ]
  },
  {
   "cell_type": "markdown",
   "id": "65ba9dcf",
   "metadata": {},
   "source": [
    "##### A ) Analyze the Trend in Nobel Prize using Line Plot:\n",
    "\n",
    "Let's plot Line plot for the Number of Prizes per Year."
   ]
  },
  {
   "cell_type": "code",
   "execution_count": 33,
   "id": "fd6995c3",
   "metadata": {},
   "outputs": [],
   "source": [
    "year=df['AwardYear'].value_counts()"
   ]
  },
  {
   "cell_type": "code",
   "execution_count": 34,
   "id": "b9245a20",
   "metadata": {},
   "outputs": [
    {
     "data": {
      "text/plain": [
       "2019    14\n",
       "2001    14\n",
       "2018    13\n",
       "2014    13\n",
       "1996    13\n",
       "        ..\n",
       "1914     3\n",
       "1924     3\n",
       "1917     3\n",
       "1918     2\n",
       "1916     1\n",
       "Name: AwardYear, Length: 116, dtype: int64"
      ]
     },
     "execution_count": 34,
     "metadata": {},
     "output_type": "execute_result"
    }
   ],
   "source": [
    "year"
   ]
  },
  {
   "cell_type": "code",
   "execution_count": 35,
   "id": "3b66ed0f",
   "metadata": {
    "scrolled": true
   },
   "outputs": [
    {
     "data": {
      "image/png": "[encoded data removed]",
      "text/plain": [
       "<Figure size 2000x500 with 1 Axes>"
      ]
     },
     "metadata": {},
     "output_type": "display_data"
    }
   ],
   "source": [
    "plt.figure(figsize=(20,5))\n",
    "sns.lineplot(x=year.index,y=year.values,color='red')\n",
    "\n",
    "plt.xticks(rotation=90)\n",
    "plt.title('Nobel Prizes by Year')\n",
    "plt.grid()\n",
    "plt.show()"
   ]
  },
  {
   "cell_type": "markdown",
   "id": "18e31beb",
   "metadata": {},
   "source": [
    "###### We can see here, The maximum no of nobel prices won In 2001  & 2019  & it's count was 14.The lowesst no of prizes won in 1916 & it's count is only 1."
   ]
  },
  {
   "cell_type": "markdown",
   "id": "cebe5d4e",
   "metadata": {},
   "source": [
    "#####  B ) Show the Years that men's won more than 10 Prize ."
   ]
  },
  {
   "cell_type": "code",
   "execution_count": 36,
   "id": "2bf65678",
   "metadata": {},
   "outputs": [],
   "source": [
    "nobel_winner_year = df['AwardYear'].value_counts(ascending = True).to_frame()\n",
    "nobel_winner_year = nobel_winner_year[nobel_winner_year['AwardYear'] >= 10]"
   ]
  },
  {
   "cell_type": "code",
   "execution_count": 37,
   "id": "568428f5",
   "metadata": {},
   "outputs": [
    {
     "data": {
      "text/html": [
       "<div>\n",
       "<style scoped>\n",
       "    .dataframe tbody tr th:only-of-type {\n",
       "        vertical-align: middle;\n",
       "    }\n",
       "\n",
       "    .dataframe tbody tr th {\n",
       "        vertical-align: top;\n",
       "    }\n",
       "\n",
       "    .dataframe thead th {\n",
       "        text-align: right;\n",
       "    }\n",
       "</style>\n",
       "<table border=\"1\" class=\"dataframe\">\n",
       "  <thead>\n",
       "    <tr style=\"text-align: right;\">\n",
       "      <th></th>\n",
       "      <th>AwardYear</th>\n",
       "    </tr>\n",
       "  </thead>\n",
       "  <tbody>\n",
       "    <tr>\n",
       "      <th>1977</th>\n",
       "      <td>10</td>\n",
       "    </tr>\n",
       "    <tr>\n",
       "      <th>1989</th>\n",
       "      <td>10</td>\n",
       "    </tr>\n",
       "    <tr>\n",
       "      <th>1981</th>\n",
       "      <td>10</td>\n",
       "    </tr>\n",
       "    <tr>\n",
       "      <th>2015</th>\n",
       "      <td>10</td>\n",
       "    </tr>\n",
       "    <tr>\n",
       "      <th>1997</th>\n",
       "      <td>11</td>\n",
       "    </tr>\n",
       "    <tr>\n",
       "      <th>2010</th>\n",
       "      <td>11</td>\n",
       "    </tr>\n",
       "    <tr>\n",
       "      <th>2007</th>\n",
       "      <td>11</td>\n",
       "    </tr>\n",
       "    <tr>\n",
       "      <th>2016</th>\n",
       "      <td>11</td>\n",
       "    </tr>\n",
       "    <tr>\n",
       "      <th>2017</th>\n",
       "      <td>11</td>\n",
       "    </tr>\n",
       "    <tr>\n",
       "      <th>2003</th>\n",
       "      <td>11</td>\n",
       "    </tr>\n",
       "    <tr>\n",
       "      <th>1995</th>\n",
       "      <td>11</td>\n",
       "    </tr>\n",
       "    <tr>\n",
       "      <th>1979</th>\n",
       "      <td>11</td>\n",
       "    </tr>\n",
       "    <tr>\n",
       "      <th>1993</th>\n",
       "      <td>11</td>\n",
       "    </tr>\n",
       "    <tr>\n",
       "      <th>1972</th>\n",
       "      <td>11</td>\n",
       "    </tr>\n",
       "    <tr>\n",
       "      <th>1980</th>\n",
       "      <td>11</td>\n",
       "    </tr>\n",
       "    <tr>\n",
       "      <th>1986</th>\n",
       "      <td>11</td>\n",
       "    </tr>\n",
       "    <tr>\n",
       "      <th>1978</th>\n",
       "      <td>11</td>\n",
       "    </tr>\n",
       "    <tr>\n",
       "      <th>1990</th>\n",
       "      <td>11</td>\n",
       "    </tr>\n",
       "    <tr>\n",
       "      <th>1988</th>\n",
       "      <td>11</td>\n",
       "    </tr>\n",
       "    <tr>\n",
       "      <th>1998</th>\n",
       "      <td>12</td>\n",
       "    </tr>\n",
       "    <tr>\n",
       "      <th>2004</th>\n",
       "      <td>12</td>\n",
       "    </tr>\n",
       "    <tr>\n",
       "      <th>2005</th>\n",
       "      <td>12</td>\n",
       "    </tr>\n",
       "    <tr>\n",
       "      <th>1994</th>\n",
       "      <td>12</td>\n",
       "    </tr>\n",
       "    <tr>\n",
       "      <th>2008</th>\n",
       "      <td>12</td>\n",
       "    </tr>\n",
       "    <tr>\n",
       "      <th>1975</th>\n",
       "      <td>12</td>\n",
       "    </tr>\n",
       "    <tr>\n",
       "      <th>1973</th>\n",
       "      <td>12</td>\n",
       "    </tr>\n",
       "    <tr>\n",
       "      <th>1974</th>\n",
       "      <td>12</td>\n",
       "    </tr>\n",
       "    <tr>\n",
       "      <th>2013</th>\n",
       "      <td>12</td>\n",
       "    </tr>\n",
       "    <tr>\n",
       "      <th>2000</th>\n",
       "      <td>13</td>\n",
       "    </tr>\n",
       "    <tr>\n",
       "      <th>2018</th>\n",
       "      <td>13</td>\n",
       "    </tr>\n",
       "    <tr>\n",
       "      <th>1996</th>\n",
       "      <td>13</td>\n",
       "    </tr>\n",
       "    <tr>\n",
       "      <th>2009</th>\n",
       "      <td>13</td>\n",
       "    </tr>\n",
       "    <tr>\n",
       "      <th>2011</th>\n",
       "      <td>13</td>\n",
       "    </tr>\n",
       "    <tr>\n",
       "      <th>2002</th>\n",
       "      <td>13</td>\n",
       "    </tr>\n",
       "    <tr>\n",
       "      <th>2014</th>\n",
       "      <td>13</td>\n",
       "    </tr>\n",
       "    <tr>\n",
       "      <th>2001</th>\n",
       "      <td>14</td>\n",
       "    </tr>\n",
       "    <tr>\n",
       "      <th>2019</th>\n",
       "      <td>14</td>\n",
       "    </tr>\n",
       "  </tbody>\n",
       "</table>\n",
       "</div>"
      ],
      "text/plain": [
       "      AwardYear\n",
       "1977         10\n",
       "1989         10\n",
       "1981         10\n",
       "2015         10\n",
       "1997         11\n",
       "2010         11\n",
       "2007         11\n",
       "2016         11\n",
       "2017         11\n",
       "2003         11\n",
       "1995         11\n",
       "1979         11\n",
       "1993         11\n",
       "1972         11\n",
       "1980         11\n",
       "1986         11\n",
       "1978         11\n",
       "1990         11\n",
       "1988         11\n",
       "1998         12\n",
       "2004         12\n",
       "2005         12\n",
       "1994         12\n",
       "2008         12\n",
       "1975         12\n",
       "1973         12\n",
       "1974         12\n",
       "2013         12\n",
       "2000         13\n",
       "2018         13\n",
       "1996         13\n",
       "2009         13\n",
       "2011         13\n",
       "2002         13\n",
       "2014         13\n",
       "2001         14\n",
       "2019         14"
      ]
     },
     "execution_count": 37,
     "metadata": {},
     "output_type": "execute_result"
    }
   ],
   "source": [
    "nobel_winner_year"
   ]
  },
  {
   "cell_type": "code",
   "execution_count": 38,
   "id": "1c3f6361",
   "metadata": {
    "scrolled": false
   },
   "outputs": [
    {
     "name": "stdout",
     "output_type": "stream",
     "text": [
      "      AwardYear\n",
      "2019         14\n",
      "2001         14\n",
      "2018         13\n",
      "2014         13\n",
      "1996         13\n",
      "...         ...\n",
      "1914          3\n",
      "1924          3\n",
      "1917          3\n",
      "1918          2\n",
      "1916          1\n",
      "\n",
      "[116 rows x 1 columns]\n"
     ]
    },
    {
     "data": {
      "image/png": "[encoded data removed]",
      "text/plain": [
       "<Figure size 1500x500 with 1 Axes>"
      ]
     },
     "metadata": {},
     "output_type": "display_data"
    }
   ],
   "source": [
    "print(pd.DataFrame(df.AwardYear.value_counts()))\n",
    "plt.figure(figsize=(15,5))\n",
    "sns.barplot(x = nobel_winner_year.index , y= 'AwardYear' ,data = nobel_winner_year)\n",
    "plt.xlabel('AwardYear')\n",
    "plt.ylabel('Number of Prize')\n",
    "plt.xticks(rotation = 90)\n",
    "plt.grid()\n",
    "plt.show()"
   ]
  },
  {
   "cell_type": "markdown",
   "id": "73071945",
   "metadata": {},
   "source": [
    "###### Using Barplot we can easily analyze the men's won  14 Prize in AwardYear 2001 & 2019.\n",
    "- Bar graph represents the data using bars either in Horizontal or Vertical directions.\n",
    "- Bar graphs are used to show two or more values and typically the x-axis should be categorical data.\n",
    "- Use for comparing different groups.\n",
    "- It is a bivariate graph.\n"
   ]
  },
  {
   "cell_type": "markdown",
   "id": "30492261",
   "metadata": {},
   "source": [
    "## 4.2) Analyzing the Name Column."
   ]
  },
  {
   "cell_type": "markdown",
   "id": "d3f6cbbf",
   "metadata": {},
   "source": [
    "##### A ) Analyze  the laureates Name that have received 3 prizes."
   ]
  },
  {
   "cell_type": "code",
   "execution_count": 39,
   "id": "3558c24c",
   "metadata": {},
   "outputs": [
    {
     "data": {
      "text/html": [
       "<div>\n",
       "<style scoped>\n",
       "    .dataframe tbody tr th:only-of-type {\n",
       "        vertical-align: middle;\n",
       "    }\n",
       "\n",
       "    .dataframe tbody tr th {\n",
       "        vertical-align: top;\n",
       "    }\n",
       "\n",
       "    .dataframe thead th {\n",
       "        text-align: right;\n",
       "    }\n",
       "</style>\n",
       "<table border=\"1\" class=\"dataframe\">\n",
       "  <thead>\n",
       "    <tr style=\"text-align: right;\">\n",
       "      <th></th>\n",
       "      <th>Name</th>\n",
       "      <th>Gender</th>\n",
       "      <th>Winning_Age</th>\n",
       "      <th>Prize_Share</th>\n",
       "    </tr>\n",
       "  </thead>\n",
       "  <tbody>\n",
       "    <tr>\n",
       "      <th>15</th>\n",
       "      <td>Marie Curie, née Sklodowska</td>\n",
       "      <td>FeMale</td>\n",
       "      <td>36</td>\n",
       "      <td>3</td>\n",
       "    </tr>\n",
       "    <tr>\n",
       "      <th>174</th>\n",
       "      <td>William Parry Murphy</td>\n",
       "      <td>Male</td>\n",
       "      <td>42</td>\n",
       "      <td>3</td>\n",
       "    </tr>\n",
       "    <tr>\n",
       "      <th>217</th>\n",
       "      <td>Sir Howard Walter Florey</td>\n",
       "      <td>Male</td>\n",
       "      <td>47</td>\n",
       "      <td>3</td>\n",
       "    </tr>\n",
       "    <tr>\n",
       "      <th>226</th>\n",
       "      <td>Wendell Meredith Stanley</td>\n",
       "      <td>Male</td>\n",
       "      <td>42</td>\n",
       "      <td>3</td>\n",
       "    </tr>\n",
       "    <tr>\n",
       "      <th>228</th>\n",
       "      <td>Bernardo Alberto Houssay</td>\n",
       "      <td>Male</td>\n",
       "      <td>60</td>\n",
       "      <td>3</td>\n",
       "    </tr>\n",
       "    <tr>\n",
       "      <th>248</th>\n",
       "      <td>Philip Showalter Hench</td>\n",
       "      <td>Male</td>\n",
       "      <td>54</td>\n",
       "      <td>3</td>\n",
       "    </tr>\n",
       "    <tr>\n",
       "      <th>272</th>\n",
       "      <td>Frederick Chapman Robbins</td>\n",
       "      <td>Male</td>\n",
       "      <td>38</td>\n",
       "      <td>3</td>\n",
       "    </tr>\n",
       "    <tr>\n",
       "      <th>284</th>\n",
       "      <td>Dickinson W. Richards</td>\n",
       "      <td>Male</td>\n",
       "      <td>61</td>\n",
       "      <td>3</td>\n",
       "    </tr>\n",
       "    <tr>\n",
       "      <th>289</th>\n",
       "      <td>Walter Houser Brattain</td>\n",
       "      <td>Male</td>\n",
       "      <td>54</td>\n",
       "      <td>3</td>\n",
       "    </tr>\n",
       "    <tr>\n",
       "      <th>303</th>\n",
       "      <td>Igor Yevgenyevich Tamm</td>\n",
       "      <td>Male</td>\n",
       "      <td>63</td>\n",
       "      <td>3</td>\n",
       "    </tr>\n",
       "    <tr>\n",
       "      <th>305</th>\n",
       "      <td>Joshua Lederberg</td>\n",
       "      <td>Male</td>\n",
       "      <td>33</td>\n",
       "      <td>3</td>\n",
       "    </tr>\n",
       "    <tr>\n",
       "      <th>332</th>\n",
       "      <td>Maurice Hugh Frederick Wilkins</td>\n",
       "      <td>Male</td>\n",
       "      <td>46</td>\n",
       "      <td>3</td>\n",
       "    </tr>\n",
       "    <tr>\n",
       "      <th>335</th>\n",
       "      <td>Andrew Fielding Huxley</td>\n",
       "      <td>Male</td>\n",
       "      <td>46</td>\n",
       "      <td>3</td>\n",
       "    </tr>\n",
       "    <tr>\n",
       "      <th>339</th>\n",
       "      <td>J. Hans D. Jensen</td>\n",
       "      <td>Male</td>\n",
       "      <td>56</td>\n",
       "      <td>3</td>\n",
       "    </tr>\n",
       "    <tr>\n",
       "      <th>343</th>\n",
       "      <td>Aleksandr Mikhailovich Prokhorov</td>\n",
       "      <td>Male</td>\n",
       "      <td>48</td>\n",
       "      <td>3</td>\n",
       "    </tr>\n",
       "  </tbody>\n",
       "</table>\n",
       "</div>"
      ],
      "text/plain": [
       "                                 Name  Gender  Winning_Age  Prize_Share\n",
       "15        Marie Curie, née Sklodowska  FeMale           36            3\n",
       "174              William Parry Murphy    Male           42            3\n",
       "217          Sir Howard Walter Florey    Male           47            3\n",
       "226          Wendell Meredith Stanley    Male           42            3\n",
       "228          Bernardo Alberto Houssay    Male           60            3\n",
       "248            Philip Showalter Hench    Male           54            3\n",
       "272         Frederick Chapman Robbins    Male           38            3\n",
       "284             Dickinson W. Richards    Male           61            3\n",
       "289            Walter Houser Brattain    Male           54            3\n",
       "303            Igor Yevgenyevich Tamm    Male           63            3\n",
       "305                  Joshua Lederberg    Male           33            3\n",
       "332    Maurice Hugh Frederick Wilkins    Male           46            3\n",
       "335            Andrew Fielding Huxley    Male           46            3\n",
       "339                 J. Hans D. Jensen    Male           56            3\n",
       "343  Aleksandr Mikhailovich Prokhorov    Male           48            3"
      ]
     },
     "metadata": {},
     "output_type": "display_data"
    }
   ],
   "source": [
    "laureates_Name=df.nlargest(15,'Prize_Share')\n",
    "display(laureates_Name[['Name','Gender','Winning_Age','Prize_Share']])"
   ]
  },
  {
   "cell_type": "markdown",
   "id": "5a5b87e0",
   "metadata": {},
   "source": [
    "## 4.3) Analysis of Gender column :"
   ]
  },
  {
   "cell_type": "markdown",
   "id": "811c5736",
   "metadata": {},
   "source": [
    "##### A )  Analyze the percentage of male and female laureates .\n",
    "\n",
    "A pie chart helps organize and show data as a percentage of a whole."
   ]
  },
  {
   "cell_type": "code",
   "execution_count": 40,
   "id": "b871dc99",
   "metadata": {
    "scrolled": true
   },
   "outputs": [
    {
     "data": {
      "text/plain": [
       "Male      869\n",
       "FeMale     54\n",
       "Name: Gender, dtype: int64"
      ]
     },
     "execution_count": 40,
     "metadata": {},
     "output_type": "execute_result"
    }
   ],
   "source": [
    "df['Gender'].value_counts()"
   ]
  },
  {
   "cell_type": "code",
   "execution_count": 41,
   "id": "4c0b2f50",
   "metadata": {
    "scrolled": false
   },
   "outputs": [
    {
     "data": {
      "image/png": "[encoded data removed]",
      "text/plain": [
       "<Figure size 500x500 with 1 Axes>"
      ]
     },
     "metadata": {},
     "output_type": "display_data"
    }
   ],
   "source": [
    "plt.figure(figsize=(5,5))\n",
    "df['Gender'].value_counts().plot.pie(autopct='%1.2f%%',explode=(0,0.5))\n",
    "plt.show()"
   ]
  },
  {
   "cell_type": "markdown",
   "id": "2058efee",
   "metadata": {},
   "source": [
    "- Using Pie chart we get thw percentage of dataset Male are 94.15%, Female are 5.85%.\n",
    "- This pie chart shows gender respectively.\n",
    "- We use autopct which give values in percentage, and the syntax is '% 1.2f%%' where % sign at the start and end and the f works    as pacemaker i.e weneed to put it by deafult and the 1 shows that 1 integer value we want and after that point(.)"
   ]
  },
  {
   "cell_type": "markdown",
   "id": "b21af463",
   "metadata": {},
   "source": [
    "###### Using count plot Male gender winning 869 nobel prizes & Female gender winning 54 nobel prizes."
   ]
  },
  {
   "cell_type": "markdown",
   "id": "eb98cd06",
   "metadata": {},
   "source": [
    "#####    B ) Analyze the first 10 men to win a Nobel Prize."
   ]
  },
  {
   "cell_type": "code",
   "execution_count": 42,
   "id": "ff1d2b59",
   "metadata": {
    "scrolled": false
   },
   "outputs": [
    {
     "data": {
      "text/html": [
       "<div>\n",
       "<style scoped>\n",
       "    .dataframe tbody tr th:only-of-type {\n",
       "        vertical-align: middle;\n",
       "    }\n",
       "\n",
       "    .dataframe tbody tr th {\n",
       "        vertical-align: top;\n",
       "    }\n",
       "\n",
       "    .dataframe thead th {\n",
       "        text-align: right;\n",
       "    }\n",
       "</style>\n",
       "<table border=\"1\" class=\"dataframe\">\n",
       "  <thead>\n",
       "    <tr style=\"text-align: right;\">\n",
       "      <th></th>\n",
       "      <th>AwardYear</th>\n",
       "      <th>Name</th>\n",
       "      <th>Gender</th>\n",
       "      <th>Prize_Share</th>\n",
       "      <th>Birth_Date</th>\n",
       "      <th>Birth_City</th>\n",
       "      <th>Birth_Country</th>\n",
       "      <th>Death_Date</th>\n",
       "      <th>Death_City</th>\n",
       "      <th>Death_Country</th>\n",
       "      <th>Category</th>\n",
       "      <th>Laureate_Id</th>\n",
       "      <th>Prize_Amount</th>\n",
       "      <th>Date_Awarded</th>\n",
       "      <th>Motivation</th>\n",
       "      <th>Ind_or_Org</th>\n",
       "      <th>Organization_Name</th>\n",
       "      <th>Winning_Age</th>\n",
       "    </tr>\n",
       "  </thead>\n",
       "  <tbody>\n",
       "    <tr>\n",
       "      <th>0</th>\n",
       "      <td>1901</td>\n",
       "      <td>Emil Adolf von Behring</td>\n",
       "      <td>Male</td>\n",
       "      <td>1</td>\n",
       "      <td>1854-03-15</td>\n",
       "      <td>Hansdorf</td>\n",
       "      <td>Prussia</td>\n",
       "      <td>31-03-1917</td>\n",
       "      <td>Marburg</td>\n",
       "      <td>Germany</td>\n",
       "      <td>Medicine</td>\n",
       "      <td>293</td>\n",
       "      <td>150782</td>\n",
       "      <td>Unknown</td>\n",
       "      <td>for his work on serum therapy, especially its ...</td>\n",
       "      <td>Individual</td>\n",
       "      <td>Marburg University, Marburg, Germany</td>\n",
       "      <td>47</td>\n",
       "    </tr>\n",
       "    <tr>\n",
       "      <th>1</th>\n",
       "      <td>1901</td>\n",
       "      <td>Frédéric Passy</td>\n",
       "      <td>Male</td>\n",
       "      <td>2</td>\n",
       "      <td>1822-05-20</td>\n",
       "      <td>Paris</td>\n",
       "      <td>France</td>\n",
       "      <td>12-06-1912</td>\n",
       "      <td>Paris</td>\n",
       "      <td>France</td>\n",
       "      <td>Peace</td>\n",
       "      <td>463</td>\n",
       "      <td>150782</td>\n",
       "      <td>10-12-1901</td>\n",
       "      <td>for his lifelong work for international peace ...</td>\n",
       "      <td>Individual</td>\n",
       "      <td>Unknown</td>\n",
       "      <td>79</td>\n",
       "    </tr>\n",
       "    <tr>\n",
       "      <th>2</th>\n",
       "      <td>1901</td>\n",
       "      <td>Jean Henry Dunant</td>\n",
       "      <td>Male</td>\n",
       "      <td>1</td>\n",
       "      <td>1828-05-08</td>\n",
       "      <td>Geneva</td>\n",
       "      <td>Switzerland</td>\n",
       "      <td>30-10-1910</td>\n",
       "      <td>Heiden</td>\n",
       "      <td>Switzerland</td>\n",
       "      <td>Peace</td>\n",
       "      <td>462</td>\n",
       "      <td>150782</td>\n",
       "      <td>10-12-1901</td>\n",
       "      <td>for his humanitarian efforts to help wounded s...</td>\n",
       "      <td>Individual</td>\n",
       "      <td>Unknown</td>\n",
       "      <td>73</td>\n",
       "    </tr>\n",
       "    <tr>\n",
       "      <th>3</th>\n",
       "      <td>1901</td>\n",
       "      <td>Jacobus Henricus van 't Hoff</td>\n",
       "      <td>Male</td>\n",
       "      <td>1</td>\n",
       "      <td>1852-08-30</td>\n",
       "      <td>Rotterdam</td>\n",
       "      <td>the Netherlands</td>\n",
       "      <td>01-03-1911</td>\n",
       "      <td>Berlin</td>\n",
       "      <td>Germany</td>\n",
       "      <td>Chemistry</td>\n",
       "      <td>160</td>\n",
       "      <td>150782</td>\n",
       "      <td>Unknown</td>\n",
       "      <td>in recognition of the extraordinary services h...</td>\n",
       "      <td>Individual</td>\n",
       "      <td>Berlin University, Berlin, Germany</td>\n",
       "      <td>49</td>\n",
       "    </tr>\n",
       "    <tr>\n",
       "      <th>4</th>\n",
       "      <td>1901</td>\n",
       "      <td>Sully Prudhomme</td>\n",
       "      <td>Male</td>\n",
       "      <td>1</td>\n",
       "      <td>1839-03-16</td>\n",
       "      <td>Paris</td>\n",
       "      <td>France</td>\n",
       "      <td>07-09-1907</td>\n",
       "      <td>Châtenay</td>\n",
       "      <td>France</td>\n",
       "      <td>Literature</td>\n",
       "      <td>569</td>\n",
       "      <td>150782</td>\n",
       "      <td>Unknown</td>\n",
       "      <td>in special recognition of his poetic compositi...</td>\n",
       "      <td>Individual</td>\n",
       "      <td>Unknown</td>\n",
       "      <td>62</td>\n",
       "    </tr>\n",
       "    <tr>\n",
       "      <th>5</th>\n",
       "      <td>1901</td>\n",
       "      <td>Wilhelm Conrad Röntgen</td>\n",
       "      <td>Male</td>\n",
       "      <td>1</td>\n",
       "      <td>1845-03-27</td>\n",
       "      <td>Lennep</td>\n",
       "      <td>Prussia</td>\n",
       "      <td>10-02-1923</td>\n",
       "      <td>Munich</td>\n",
       "      <td>Germany</td>\n",
       "      <td>Physics</td>\n",
       "      <td>1</td>\n",
       "      <td>150782</td>\n",
       "      <td>Unknown</td>\n",
       "      <td>in recognition of the extraordinary services h...</td>\n",
       "      <td>Individual</td>\n",
       "      <td>Munich University, Munich, Germany</td>\n",
       "      <td>56</td>\n",
       "    </tr>\n",
       "    <tr>\n",
       "      <th>6</th>\n",
       "      <td>1902</td>\n",
       "      <td>Charles Albert Gobat</td>\n",
       "      <td>Male</td>\n",
       "      <td>2</td>\n",
       "      <td>1843-05-21</td>\n",
       "      <td>Tramelan</td>\n",
       "      <td>Switzerland</td>\n",
       "      <td>16-03-1914</td>\n",
       "      <td>Bern</td>\n",
       "      <td>Switzerland</td>\n",
       "      <td>Peace</td>\n",
       "      <td>465</td>\n",
       "      <td>141847</td>\n",
       "      <td>10-12-1902</td>\n",
       "      <td>for his eminently practical administration of ...</td>\n",
       "      <td>Individual</td>\n",
       "      <td>Unknown</td>\n",
       "      <td>59</td>\n",
       "    </tr>\n",
       "    <tr>\n",
       "      <th>7</th>\n",
       "      <td>1902</td>\n",
       "      <td>Élie Ducommun</td>\n",
       "      <td>Male</td>\n",
       "      <td>1</td>\n",
       "      <td>1833-02-19</td>\n",
       "      <td>Geneva</td>\n",
       "      <td>Switzerland</td>\n",
       "      <td>07-12-1906</td>\n",
       "      <td>Bern</td>\n",
       "      <td>Switzerland</td>\n",
       "      <td>Peace</td>\n",
       "      <td>464</td>\n",
       "      <td>141847</td>\n",
       "      <td>10-12-1902</td>\n",
       "      <td>for his untiring and skilful directorship of t...</td>\n",
       "      <td>Individual</td>\n",
       "      <td>Unknown</td>\n",
       "      <td>69</td>\n",
       "    </tr>\n",
       "    <tr>\n",
       "      <th>8</th>\n",
       "      <td>1902</td>\n",
       "      <td>Hermann Emil Fischer</td>\n",
       "      <td>Male</td>\n",
       "      <td>1</td>\n",
       "      <td>1852-10-09</td>\n",
       "      <td>Euskirchen</td>\n",
       "      <td>Prussia</td>\n",
       "      <td>15-07-1919</td>\n",
       "      <td>Berlin</td>\n",
       "      <td>Germany</td>\n",
       "      <td>Chemistry</td>\n",
       "      <td>161</td>\n",
       "      <td>141847</td>\n",
       "      <td>Unknown</td>\n",
       "      <td>in recognition of the extraordinary services h...</td>\n",
       "      <td>Individual</td>\n",
       "      <td>Berlin University, Berlin, Germany</td>\n",
       "      <td>50</td>\n",
       "    </tr>\n",
       "    <tr>\n",
       "      <th>9</th>\n",
       "      <td>1902</td>\n",
       "      <td>Hendrik Antoon Lorentz</td>\n",
       "      <td>Male</td>\n",
       "      <td>1</td>\n",
       "      <td>1853-07-18</td>\n",
       "      <td>Arnhem</td>\n",
       "      <td>the Netherlands</td>\n",
       "      <td>04-02-1928</td>\n",
       "      <td>Unknown</td>\n",
       "      <td>the Netherlands</td>\n",
       "      <td>Physics</td>\n",
       "      <td>2</td>\n",
       "      <td>141847</td>\n",
       "      <td>Unknown</td>\n",
       "      <td>in recognition of the extraordinary service th...</td>\n",
       "      <td>Individual</td>\n",
       "      <td>Leiden University, Leiden, the Netherlands</td>\n",
       "      <td>49</td>\n",
       "    </tr>\n",
       "  </tbody>\n",
       "</table>\n",
       "</div>"
      ],
      "text/plain": [
       "   AwardYear                          Name Gender  Prize_Share Birth_Date  \\\n",
       "0       1901        Emil Adolf von Behring   Male            1 1854-03-15   \n",
       "1       1901                Frédéric Passy   Male            2 1822-05-20   \n",
       "2       1901             Jean Henry Dunant   Male            1 1828-05-08   \n",
       "3       1901  Jacobus Henricus van 't Hoff   Male            1 1852-08-30   \n",
       "4       1901               Sully Prudhomme   Male            1 1839-03-16   \n",
       "5       1901        Wilhelm Conrad Röntgen   Male            1 1845-03-27   \n",
       "6       1902          Charles Albert Gobat   Male            2 1843-05-21   \n",
       "7       1902                 Élie Ducommun   Male            1 1833-02-19   \n",
       "8       1902          Hermann Emil Fischer   Male            1 1852-10-09   \n",
       "9       1902        Hendrik Antoon Lorentz   Male            1 1853-07-18   \n",
       "\n",
       "   Birth_City    Birth_Country  Death_Date Death_City    Death_Country  \\\n",
       "0    Hansdorf          Prussia  31-03-1917    Marburg          Germany   \n",
       "1       Paris           France  12-06-1912      Paris           France   \n",
       "2      Geneva      Switzerland  30-10-1910     Heiden      Switzerland   \n",
       "3   Rotterdam  the Netherlands  01-03-1911     Berlin          Germany   \n",
       "4       Paris           France  07-09-1907   Châtenay           France   \n",
       "5      Lennep          Prussia  10-02-1923     Munich          Germany   \n",
       "6    Tramelan      Switzerland  16-03-1914       Bern      Switzerland   \n",
       "7      Geneva      Switzerland  07-12-1906       Bern      Switzerland   \n",
       "8  Euskirchen          Prussia  15-07-1919     Berlin          Germany   \n",
       "9      Arnhem  the Netherlands  04-02-1928    Unknown  the Netherlands   \n",
       "\n",
       "     Category  Laureate_Id  Prize_Amount Date_Awarded  \\\n",
       "0    Medicine          293        150782      Unknown   \n",
       "1       Peace          463        150782   10-12-1901   \n",
       "2       Peace          462        150782   10-12-1901   \n",
       "3   Chemistry          160        150782      Unknown   \n",
       "4  Literature          569        150782      Unknown   \n",
       "5     Physics            1        150782      Unknown   \n",
       "6       Peace          465        141847   10-12-1902   \n",
       "7       Peace          464        141847   10-12-1902   \n",
       "8   Chemistry          161        141847      Unknown   \n",
       "9     Physics            2        141847      Unknown   \n",
       "\n",
       "                                          Motivation  Ind_or_Org  \\\n",
       "0  for his work on serum therapy, especially its ...  Individual   \n",
       "1  for his lifelong work for international peace ...  Individual   \n",
       "2  for his humanitarian efforts to help wounded s...  Individual   \n",
       "3  in recognition of the extraordinary services h...  Individual   \n",
       "4  in special recognition of his poetic compositi...  Individual   \n",
       "5  in recognition of the extraordinary services h...  Individual   \n",
       "6  for his eminently practical administration of ...  Individual   \n",
       "7  for his untiring and skilful directorship of t...  Individual   \n",
       "8  in recognition of the extraordinary services h...  Individual   \n",
       "9  in recognition of the extraordinary service th...  Individual   \n",
       "\n",
       "                            Organization_Name  Winning_Age  \n",
       "0        Marburg University, Marburg, Germany           47  \n",
       "1                                     Unknown           79  \n",
       "2                                     Unknown           73  \n",
       "3          Berlin University, Berlin, Germany           49  \n",
       "4                                     Unknown           62  \n",
       "5          Munich University, Munich, Germany           56  \n",
       "6                                     Unknown           59  \n",
       "7                                     Unknown           69  \n",
       "8          Berlin University, Berlin, Germany           50  \n",
       "9  Leiden University, Leiden, the Netherlands           49  "
      ]
     },
     "execution_count": 42,
     "metadata": {},
     "output_type": "execute_result"
    }
   ],
   "source": [
    "df[df[\"Gender\"]==\"Male\"].nsmallest(10, columns=\"AwardYear\")"
   ]
  },
  {
   "cell_type": "markdown",
   "id": "4c9dc1ec",
   "metadata": {},
   "source": [
    "##### C ) Analyze the Average age for Genderwise."
   ]
  },
  {
   "cell_type": "code",
   "execution_count": 43,
   "id": "584fc6e9",
   "metadata": {},
   "outputs": [
    {
     "data": {
      "image/png": "[encoded data removed]",
      "text/plain": [
       "<Figure size 700x1000 with 1 Axes>"
      ]
     },
     "metadata": {},
     "output_type": "display_data"
    }
   ],
   "source": [
    "plt.figure(figsize=(7,10))\n",
    "sns.boxplot(data=df,x='Gender',y='Winning_Age')\n",
    "plt.show()"
   ]
  },
  {
   "cell_type": "markdown",
   "id": "f2e420df",
   "metadata": {},
   "source": [
    "\n",
    "- Observe that overall Mean age is 60 Highest for male and Mean age 56 Lowest for female.\n",
    "- Boxplot is also used for detect the outlier in data set.\n",
    "- Boxplot summarizes a sample data using 25th, 50th and 75th percentiles.\n",
    "- These percentiles are also known as the lower quartile, median and upper quartile.\n",
    "- There is one outlier in the above graph.\n",
    "- Outlier is defined as the data point which is extremely different from the other data points.\n"
   ]
  },
  {
   "cell_type": "markdown",
   "id": "762d2d50",
   "metadata": {},
   "source": [
    "## 4.4) Analyisis of Birth_City Column.\n"
   ]
  },
  {
   "cell_type": "markdown",
   "id": "52d2cfb7",
   "metadata": {},
   "source": [
    "##### A ) Analyze the top 20 birth cities of Nobel laureates."
   ]
  },
  {
   "cell_type": "code",
   "execution_count": 44,
   "id": "8c14a714",
   "metadata": {},
   "outputs": [
    {
     "data": {
      "image/png": "[encoded data removed]",
      "text/plain": [
       "<Figure size 640x480 with 1 Axes>"
      ]
     },
     "metadata": {},
     "output_type": "display_data"
    }
   ],
   "source": [
    "city=df['Birth_City'].value_counts().head(20)\n",
    "sns.barplot(y=city.index,x=city.values)\n",
    "plt.xticks(rotation=90)\n",
    "plt.title('Top 20 City, in which nobel prize winners born')\n",
    "plt.show()"
   ]
  },
  {
   "cell_type": "markdown",
   "id": "10791d13",
   "metadata": {},
   "source": [
    "###### Using Barplot find the top 10 birth cities of Nobel laureates. In New york city around 48 nobel price winners born. Next comes the cities Paris and London."
   ]
  },
  {
   "cell_type": "markdown",
   "id": "565bd02c",
   "metadata": {},
   "source": [
    "## 4.5) Analyzing the Categories Column"
   ]
  },
  {
   "cell_type": "code",
   "execution_count": 45,
   "id": "e1c68a2f",
   "metadata": {
    "scrolled": false
   },
   "outputs": [
    {
     "data": {
      "text/plain": [
       "Medicine             219\n",
       "Physics              213\n",
       "Chemistry            184\n",
       "Literature           116\n",
       "Peace                107\n",
       "Economic Sciences     84\n",
       "Name: Category, dtype: int64"
      ]
     },
     "execution_count": 45,
     "metadata": {},
     "output_type": "execute_result"
    }
   ],
   "source": [
    "df[\"Category\"].value_counts()"
   ]
  },
  {
   "cell_type": "markdown",
   "id": "9c337745",
   "metadata": {},
   "source": [
    "##### A) Analyze the average mean age for each category."
   ]
  },
  {
   "cell_type": "code",
   "execution_count": 46,
   "id": "7ba96a6e",
   "metadata": {
    "scrolled": true
   },
   "outputs": [
    {
     "data": {
      "image/png": "[encoded data removed]",
      "text/plain": [
       "<Figure size 700x400 with 1 Axes>"
      ]
     },
     "metadata": {},
     "output_type": "display_data"
    }
   ],
   "source": [
    "plt.figure(figsize=(7,4))\n",
    "sns.boxplot(data=df,x='Category',y='Winning_Age')\n",
    "plt.show()"
   ]
  },
  {
   "cell_type": "markdown",
   "id": "998ff12f",
   "metadata": {},
   "source": [
    "###### Observe that overall Mean age is Highest for Economics and Lowest for Physics."
   ]
  },
  {
   "cell_type": "markdown",
   "id": "47333a6f",
   "metadata": {},
   "source": [
    "##### B) Analyze the winning age trends within different prize categories."
   ]
  },
  {
   "cell_type": "code",
   "execution_count": 47,
   "id": "37deaefc",
   "metadata": {
    "scrolled": true
   },
   "outputs": [
    {
     "data": {
      "image/png": "[encoded data removed]",
      "text/plain": [
       "<Figure size 1500x700 with 1 Axes>"
      ]
     },
     "metadata": {},
     "output_type": "display_data"
    }
   ],
   "source": [
    "plt.figure(figsize=(15,7))\n",
    "sns.scatterplot(data=df,x='AwardYear',y='Winning_Age',hue='Category',marker=\"o\",size='Gender',palette='Set1')\n",
    "plt.xlabel(\"AwardYear\")\n",
    "plt.ylabel(\"Winning_Age\")\n",
    "plt.show()"
   ]
  },
  {
   "cell_type": "markdown",
   "id": "1a963a4e",
   "metadata": {},
   "source": [
    "###### This is a scatterplot to use corelation between winning age & diff prize category.The physice trend is highest,the average age used to be below 50, and now it's almost 70.Literature and economics are more stable.We also see that after 1960 economics is a new growing category.Every category has an increasing trend except Peace. The age of laureates in the Peace category are decreasing with every passing year."
   ]
  },
  {
   "cell_type": "markdown",
   "id": "09b2fb4f",
   "metadata": {},
   "source": [
    "##### c ) analyzing the prize sharing in all categories."
   ]
  },
  {
   "cell_type": "code",
   "execution_count": 48,
   "id": "44eca517",
   "metadata": {},
   "outputs": [
    {
     "data": {
      "image/png": "[encoded data removed]",
      "text/plain": [
       "<Figure size 1500x800 with 1 Axes>"
      ]
     },
     "metadata": {},
     "output_type": "display_data"
    }
   ],
   "source": [
    "plt.figure(figsize = (15,8))\n",
    "aaa = sns.countplot(data=df, y=\"Category\", hue=\"Prize_Share\", palette = sns.color_palette(\"hls\", 4), edgecolor='black')\n",
    "plt.title(\"Prize Sharing Across all Categories\")\n",
    "plt.show()"
   ]
  },
  {
   "cell_type": "markdown",
   "id": "551d871d",
   "metadata": {},
   "source": [
    "##### .In the Physics feilds, most nobel prizes are won by Solo individuals.In 2nd field of Medicine, most nobel prizes are won by 2 individuals working together.In the field of Medicine, most nobel prizes are won by 3 individuals."
   ]
  },
  {
   "cell_type": "markdown",
   "id": "b65237be",
   "metadata": {},
   "source": [
    "## 4.7) Analyzing the Laureate_Id Column."
   ]
  },
  {
   "cell_type": "markdown",
   "id": "16977293",
   "metadata": {},
   "source": [
    "##### A) Find the laureates that have received 2 or more prizes."
   ]
  },
  {
   "cell_type": "code",
   "execution_count": 49,
   "id": "52d3e19e",
   "metadata": {
    "scrolled": true
   },
   "outputs": [
    {
     "data": {
      "text/html": [
       "<div>\n",
       "<style scoped>\n",
       "    .dataframe tbody tr th:only-of-type {\n",
       "        vertical-align: middle;\n",
       "    }\n",
       "\n",
       "    .dataframe tbody tr th {\n",
       "        vertical-align: top;\n",
       "    }\n",
       "\n",
       "    .dataframe thead th {\n",
       "        text-align: right;\n",
       "    }\n",
       "</style>\n",
       "<table border=\"1\" class=\"dataframe\">\n",
       "  <thead>\n",
       "    <tr style=\"text-align: right;\">\n",
       "      <th></th>\n",
       "      <th>AwardYear</th>\n",
       "      <th>Name</th>\n",
       "      <th>Category</th>\n",
       "      <th>Laureate_Id</th>\n",
       "      <th>Gender</th>\n",
       "      <th>Prize_Share</th>\n",
       "    </tr>\n",
       "  </thead>\n",
       "  <tbody>\n",
       "    <tr>\n",
       "      <th>15</th>\n",
       "      <td>1903</td>\n",
       "      <td>Marie Curie, née Sklodowska</td>\n",
       "      <td>Physics</td>\n",
       "      <td>6</td>\n",
       "      <td>FeMale</td>\n",
       "      <td>3</td>\n",
       "    </tr>\n",
       "    <tr>\n",
       "      <th>65</th>\n",
       "      <td>1911</td>\n",
       "      <td>Marie Curie, née Sklodowska</td>\n",
       "      <td>Chemistry</td>\n",
       "      <td>6</td>\n",
       "      <td>FeMale</td>\n",
       "      <td>1</td>\n",
       "    </tr>\n",
       "    <tr>\n",
       "      <th>285</th>\n",
       "      <td>1956</td>\n",
       "      <td>John Bardeen</td>\n",
       "      <td>Physics</td>\n",
       "      <td>66</td>\n",
       "      <td>Male</td>\n",
       "      <td>2</td>\n",
       "    </tr>\n",
       "    <tr>\n",
       "      <th>414</th>\n",
       "      <td>1972</td>\n",
       "      <td>John Bardeen</td>\n",
       "      <td>Physics</td>\n",
       "      <td>66</td>\n",
       "      <td>Male</td>\n",
       "      <td>1</td>\n",
       "    </tr>\n",
       "    <tr>\n",
       "      <th>277</th>\n",
       "      <td>1954</td>\n",
       "      <td>Linus Carl Pauling</td>\n",
       "      <td>Chemistry</td>\n",
       "      <td>217</td>\n",
       "      <td>Male</td>\n",
       "      <td>1</td>\n",
       "    </tr>\n",
       "    <tr>\n",
       "      <th>331</th>\n",
       "      <td>1962</td>\n",
       "      <td>Linus Carl Pauling</td>\n",
       "      <td>Peace</td>\n",
       "      <td>217</td>\n",
       "      <td>Male</td>\n",
       "      <td>1</td>\n",
       "    </tr>\n",
       "    <tr>\n",
       "      <th>300</th>\n",
       "      <td>1958</td>\n",
       "      <td>Frederick Sanger</td>\n",
       "      <td>Chemistry</td>\n",
       "      <td>222</td>\n",
       "      <td>Male</td>\n",
       "      <td>1</td>\n",
       "    </tr>\n",
       "    <tr>\n",
       "      <th>502</th>\n",
       "      <td>1980</td>\n",
       "      <td>Frederick Sanger</td>\n",
       "      <td>Chemistry</td>\n",
       "      <td>222</td>\n",
       "      <td>Male</td>\n",
       "      <td>3</td>\n",
       "    </tr>\n",
       "  </tbody>\n",
       "</table>\n",
       "</div>"
      ],
      "text/plain": [
       "     AwardYear                         Name   Category  Laureate_Id  Gender  \\\n",
       "15        1903  Marie Curie, née Sklodowska    Physics            6  FeMale   \n",
       "65        1911  Marie Curie, née Sklodowska  Chemistry            6  FeMale   \n",
       "285       1956                 John Bardeen    Physics           66    Male   \n",
       "414       1972                 John Bardeen    Physics           66    Male   \n",
       "277       1954           Linus Carl Pauling  Chemistry          217    Male   \n",
       "331       1962           Linus Carl Pauling      Peace          217    Male   \n",
       "300       1958             Frederick Sanger  Chemistry          222    Male   \n",
       "502       1980             Frederick Sanger  Chemistry          222    Male   \n",
       "\n",
       "     Prize_Share  \n",
       "15             3  \n",
       "65             1  \n",
       "285            2  \n",
       "414            1  \n",
       "277            1  \n",
       "331            1  \n",
       "300            1  \n",
       "502            3  "
      ]
     },
     "execution_count": 49,
     "metadata": {},
     "output_type": "execute_result"
    }
   ],
   "source": [
    "columns = df[[\"AwardYear\",\"Name\",\"Category\",\"Laureate_Id\",\"Gender\",\"Prize_Share\"]]\n",
    "two_times_winners = columns.groupby(\"Name\").filter(lambda group: len(group) >= 2).sort_values(\"Laureate_Id\")\n",
    "two_times_winners.head(10)"
   ]
  },
  {
   "cell_type": "markdown",
   "id": "31b26daa",
   "metadata": {},
   "source": [
    "## 4.7) Analyzing the Prize_Share Column."
   ]
  },
  {
   "cell_type": "code",
   "execution_count": 50,
   "id": "ef9aa4bb",
   "metadata": {
    "scrolled": false
   },
   "outputs": [
    {
     "data": {
      "image/png": "[encoded data removed]",
      "text/plain": [
       "<Figure size 1000x500 with 1 Axes>"
      ]
     },
     "metadata": {},
     "output_type": "display_data"
    }
   ],
   "source": [
    "plt.figure(figsize=(10,5))\n",
    "plt.hist(df['Category'],bins=6)\n",
    "plt.title('Prize_Share Frequency distribution')\n",
    "plt.xlabel('Category')\n",
    "plt.ylabel('Frequency')\n",
    "plt.grid()\n",
    "plt.show()"
   ]
  },
  {
   "cell_type": "markdown",
   "id": "c3e47dc1",
   "metadata": {},
   "source": [
    "###### In this graph highest frequency for prize distribution in Medicine category & lowest frequency for prize distribution in Economic Science category."
   ]
  },
  {
   "cell_type": "markdown",
   "id": "a9c7584c",
   "metadata": {},
   "source": [
    "## 4.9) Analyzing the Winning_Age Column."
   ]
  },
  {
   "cell_type": "code",
   "execution_count": 51,
   "id": "89b9ede5",
   "metadata": {},
   "outputs": [
    {
     "data": {
      "text/html": [
       "<div>\n",
       "<style scoped>\n",
       "    .dataframe tbody tr th:only-of-type {\n",
       "        vertical-align: middle;\n",
       "    }\n",
       "\n",
       "    .dataframe tbody tr th {\n",
       "        vertical-align: top;\n",
       "    }\n",
       "\n",
       "    .dataframe thead th {\n",
       "        text-align: right;\n",
       "    }\n",
       "</style>\n",
       "<table border=\"1\" class=\"dataframe\">\n",
       "  <thead>\n",
       "    <tr style=\"text-align: right;\">\n",
       "      <th></th>\n",
       "      <th>AwardYear</th>\n",
       "      <th>Name</th>\n",
       "      <th>Gender</th>\n",
       "      <th>Prize_Share</th>\n",
       "      <th>Birth_Date</th>\n",
       "      <th>Birth_City</th>\n",
       "      <th>Birth_Country</th>\n",
       "      <th>Death_Date</th>\n",
       "      <th>Death_City</th>\n",
       "      <th>Death_Country</th>\n",
       "      <th>Category</th>\n",
       "      <th>Laureate_Id</th>\n",
       "      <th>Prize_Amount</th>\n",
       "      <th>Date_Awarded</th>\n",
       "      <th>Motivation</th>\n",
       "      <th>Ind_or_Org</th>\n",
       "      <th>Organization_Name</th>\n",
       "      <th>Winning_Age</th>\n",
       "    </tr>\n",
       "  </thead>\n",
       "  <tbody>\n",
       "    <tr>\n",
       "      <th>916</th>\n",
       "      <td>2019</td>\n",
       "      <td>John B. Goodenough</td>\n",
       "      <td>Male</td>\n",
       "      <td>1</td>\n",
       "      <td>1922-07-25</td>\n",
       "      <td>Jena</td>\n",
       "      <td>Germany</td>\n",
       "      <td>Unknown</td>\n",
       "      <td>Unknown</td>\n",
       "      <td>Unknown</td>\n",
       "      <td>Chemistry</td>\n",
       "      <td>976</td>\n",
       "      <td>9000000</td>\n",
       "      <td>09-10-2019</td>\n",
       "      <td>for the development of lithium-ion batteries</td>\n",
       "      <td>Individual</td>\n",
       "      <td>University of Texas, Austin, TX, USA</td>\n",
       "      <td>97</td>\n",
       "    </tr>\n",
       "  </tbody>\n",
       "</table>\n",
       "</div>"
      ],
      "text/plain": [
       "     AwardYear                Name Gender  Prize_Share Birth_Date Birth_City  \\\n",
       "916       2019  John B. Goodenough   Male            1 1922-07-25       Jena   \n",
       "\n",
       "    Birth_Country Death_Date Death_City Death_Country   Category  Laureate_Id  \\\n",
       "916       Germany    Unknown    Unknown       Unknown  Chemistry          976   \n",
       "\n",
       "     Prize_Amount Date_Awarded                                    Motivation  \\\n",
       "916       9000000   09-10-2019  for the development of lithium-ion batteries   \n",
       "\n",
       "     Ind_or_Org                     Organization_Name  Winning_Age  \n",
       "916  Individual  University of Texas, Austin, TX, USA           97  "
      ]
     },
     "metadata": {},
     "output_type": "display_data"
    }
   ],
   "source": [
    "# The oldest winner of a Nobel Prize as of 2016\n",
    "display(df.nlargest(1, 'Winning_Age'))"
   ]
  },
  {
   "cell_type": "code",
   "execution_count": 52,
   "id": "80c6a6d1",
   "metadata": {},
   "outputs": [
    {
     "data": {
      "text/html": [
       "<div>\n",
       "<style scoped>\n",
       "    .dataframe tbody tr th:only-of-type {\n",
       "        vertical-align: middle;\n",
       "    }\n",
       "\n",
       "    .dataframe tbody tr th {\n",
       "        vertical-align: top;\n",
       "    }\n",
       "\n",
       "    .dataframe thead th {\n",
       "        text-align: right;\n",
       "    }\n",
       "</style>\n",
       "<table border=\"1\" class=\"dataframe\">\n",
       "  <thead>\n",
       "    <tr style=\"text-align: right;\">\n",
       "      <th></th>\n",
       "      <th>AwardYear</th>\n",
       "      <th>Name</th>\n",
       "      <th>Gender</th>\n",
       "      <th>Prize_Share</th>\n",
       "      <th>Birth_Date</th>\n",
       "      <th>Birth_City</th>\n",
       "      <th>Birth_Country</th>\n",
       "      <th>Death_Date</th>\n",
       "      <th>Death_City</th>\n",
       "      <th>Death_Country</th>\n",
       "      <th>Category</th>\n",
       "      <th>Laureate_Id</th>\n",
       "      <th>Prize_Amount</th>\n",
       "      <th>Date_Awarded</th>\n",
       "      <th>Motivation</th>\n",
       "      <th>Ind_or_Org</th>\n",
       "      <th>Organization_Name</th>\n",
       "      <th>Winning_Age</th>\n",
       "    </tr>\n",
       "  </thead>\n",
       "  <tbody>\n",
       "    <tr>\n",
       "      <th>858</th>\n",
       "      <td>2014</td>\n",
       "      <td>Malala Yousafzai</td>\n",
       "      <td>FeMale</td>\n",
       "      <td>2</td>\n",
       "      <td>1997-12-07</td>\n",
       "      <td>Mingora</td>\n",
       "      <td>Pakistan</td>\n",
       "      <td>Unknown</td>\n",
       "      <td>Unknown</td>\n",
       "      <td>Unknown</td>\n",
       "      <td>Peace</td>\n",
       "      <td>914</td>\n",
       "      <td>8000000</td>\n",
       "      <td>10-10-2014</td>\n",
       "      <td>for their struggle against the suppression of ...</td>\n",
       "      <td>Individual</td>\n",
       "      <td>Unknown</td>\n",
       "      <td>17</td>\n",
       "    </tr>\n",
       "  </tbody>\n",
       "</table>\n",
       "</div>"
      ],
      "text/plain": [
       "     AwardYear              Name  Gender  Prize_Share Birth_Date Birth_City  \\\n",
       "858       2014  Malala Yousafzai  FeMale            2 1997-12-07    Mingora   \n",
       "\n",
       "    Birth_Country Death_Date Death_City Death_Country Category  Laureate_Id  \\\n",
       "858      Pakistan    Unknown    Unknown       Unknown    Peace          914   \n",
       "\n",
       "     Prize_Amount Date_Awarded  \\\n",
       "858       8000000   10-10-2014   \n",
       "\n",
       "                                            Motivation  Ind_or_Org  \\\n",
       "858  for their struggle against the suppression of ...  Individual   \n",
       "\n",
       "    Organization_Name  Winning_Age  \n",
       "858           Unknown           17  "
      ]
     },
     "metadata": {},
     "output_type": "display_data"
    }
   ],
   "source": [
    "# The youngest winner of a Nobel Prize as of 2016\n",
    "display(df.nsmallest(1, 'Winning_Age'))"
   ]
  },
  {
   "cell_type": "markdown",
   "id": "5332205a",
   "metadata": {},
   "source": [
    "## 4.10) Analyzing the Individual or organization Column."
   ]
  },
  {
   "cell_type": "code",
   "execution_count": 53,
   "id": "3cc486c5",
   "metadata": {},
   "outputs": [
    {
     "data": {
      "image/png": "[encoded data removed]",
      "text/plain": [
       "<Figure size 500x700 with 1 Axes>"
      ]
     },
     "metadata": {},
     "output_type": "display_data"
    }
   ],
   "source": [
    "plt.figure(figsize=(5,7))\n",
    "sns.countplot(data=df,x='Ind_or_Org',hue='Gender')\n",
    "plt.title(\"Count of Laureates w.r.t their type\")\n",
    "plt.grid()\n",
    "plt.show()"
   ]
  },
  {
   "cell_type": "markdown",
   "id": "ca4a538e",
   "metadata": {},
   "source": [
    "###### In this countplot male individually win total 870 nobel prices & female 54 nobel prize"
   ]
  },
  {
   "cell_type": "markdown",
   "id": "2aa9536f",
   "metadata": {},
   "source": [
    "## 4.11) Finding the correlation between all of the numerical features."
   ]
  },
  {
   "cell_type": "code",
   "execution_count": 54,
   "id": "4ec4dc64",
   "metadata": {},
   "outputs": [],
   "source": [
    "corr=df.corr()"
   ]
  },
  {
   "cell_type": "code",
   "execution_count": 55,
   "id": "d0a6b760",
   "metadata": {
    "scrolled": true
   },
   "outputs": [
    {
     "data": {
      "image/png": "[encoded data removed]",
      "text/plain": [
       "<Figure size 1500x1000 with 2 Axes>"
      ]
     },
     "metadata": {},
     "output_type": "display_data"
    }
   ],
   "source": [
    "plt.figure(figsize=(15,10))\n",
    "cmap = sns.color_palette(\"Blues\")\n",
    "sns.heatmap(corr,annot=True,cmap='Blues',linewidth=1,linecolor='orange',cbar=True)\n",
    "plt.title('Correlation between numerical features')\n",
    "plt.show()"
   ]
  },
  {
   "cell_type": "markdown",
   "id": "19e18515",
   "metadata": {},
   "source": [
    "##### Heatmap:\n",
    "- There are many characteristic features of nobel prizes in the dataset. \n",
    "- If there is any relationship between the nobel prize features or not can be determined using a heatmap. \n",
    "- This will help to better understand nobel prize disribution.\n",
    "- Dark blue color shows there is strong relation between two variables.\n",
    "- Color between light and dark blue shows the weak relation.\n",
    "- Light blue color shows there is no relation between two variables."
   ]
  },
  {
   "cell_type": "code",
   "execution_count": null,
   "id": "b9381b58",
   "metadata": {},
   "outputs": [],
   "source": []
  }
 ],
 "metadata": {
  "kernelspec": {
   "display_name": "Python 3 (ipykernel)",
   "language": "python",
   "name": "python3"
  },
  "language_info": {
   "codemirror_mode": {
    "name": "ipython",
    "version": 3
   },
   "file_extension": ".py",
   "mimetype": "text/x-python",
   "name": "python",
   "nbconvert_exporter": "python",
   "pygments_lexer": "ipython3",
   "version": "3.10.9"
  }
 },
 "nbformat": 4,
 "nbformat_minor": 5
}
